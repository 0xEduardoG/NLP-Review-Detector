{
 "cells": [
  {
   "cell_type": "markdown",
   "id": "d827980d-0c09-4b46-8cb0-3c9fc5f6f4dd",
   "metadata": {},
   "source": [
    "## Importing Packages"
   ]
  },
  {
   "cell_type": "code",
   "execution_count": 2,
   "id": "d694b457-680a-4ecc-a6c2-924e04e1bac9",
   "metadata": {},
   "outputs": [],
   "source": [
    "import os\n",
    "import sys\n",
    "import warnings\n",
    "warnings.filterwarnings('ignore')\n",
    "import matplotlib.pyplot as plt\n",
    "import numpy as np\n",
    "import pandas as pd\n",
    "import re\n",
    "import string\n",
    "import seaborn as sns\n",
    "\n",
    "import xgboost\n",
    "\n",
    "from PIL import Image\n",
    "\n",
    "from nltk import WordNetLemmatizer\n",
    "from nltk import pos_tag\n",
    "from nltk.corpus import stopwords, wordnet\n",
    "from nltk.probability import FreqDist\n",
    "from nltk.tokenize import regexp_tokenize, word_tokenize, RegexpTokenizer\n",
    "\n",
    "from sklearn.feature_extraction.text import CountVectorizer, TfidfVectorizer\n",
    "from sklearn.ensemble import (AdaBoostClassifier, BaggingClassifier,\n",
    "                              GradientBoostingClassifier, RandomForestClassifier,\n",
    "                              StackingClassifier, VotingClassifier)\n",
    "from sklearn.linear_model import LogisticRegression\n",
    "from sklearn.metrics import (ConfusionMatrixDisplay, accuracy_score,\n",
    "                             auc, classification_report, confusion_matrix,\n",
    "                             f1_score, precision_score, recall_score, roc_curve)\n",
    "from sklearn.model_selection import (GridSearchCV, cross_val_score,\n",
    "                                   train_test_split)\n",
    "from sklearn.pipeline import Pipeline\n",
    "from sklearn.preprocessing import FunctionTransformer, OneHotEncoder, StandardScaler\n",
    "from tensorflow.keras import datasets\n",
    "from tensorflow.keras.callbacks import EarlyStopping\n",
    "from tensorflow.keras.layers import Dense, Flatten, Input, Dropout\n",
    "from tensorflow.keras.models import Sequential\n",
    "from tensorflow.keras.optimizers import Adam\n",
    "from tensorflow.keras.regularizers import l2\n",
    "from tensorflow.keras.utils import to_categorical, plot_model\n",
    "from wordcloud import WordCloud"
   ]
  },
  {
   "cell_type": "markdown",
   "id": "be1303cd-613e-4b90-bc66-f18f192f8aa2",
   "metadata": {},
   "source": [
    "## Importing Data & EDA"
   ]
  },
  {
   "cell_type": "code",
   "execution_count": 3,
   "id": "4be5cb17-f005-465d-939b-f2babbb063b7",
   "metadata": {},
   "outputs": [
    {
     "data": {
      "text/html": [
       "<div>\n",
       "<style scoped>\n",
       "    .dataframe tbody tr th:only-of-type {\n",
       "        vertical-align: middle;\n",
       "    }\n",
       "\n",
       "    .dataframe tbody tr th {\n",
       "        vertical-align: top;\n",
       "    }\n",
       "\n",
       "    .dataframe thead th {\n",
       "        text-align: right;\n",
       "    }\n",
       "</style>\n",
       "<table border=\"1\" class=\"dataframe\">\n",
       "  <thead>\n",
       "    <tr style=\"text-align: right;\">\n",
       "      <th></th>\n",
       "      <th>category</th>\n",
       "      <th>rating</th>\n",
       "      <th>label</th>\n",
       "      <th>text_</th>\n",
       "    </tr>\n",
       "  </thead>\n",
       "  <tbody>\n",
       "    <tr>\n",
       "      <th>0</th>\n",
       "      <td>Home_and_Kitchen_5</td>\n",
       "      <td>5.0</td>\n",
       "      <td>CG</td>\n",
       "      <td>Love this!  Well made, sturdy, and very comfor...</td>\n",
       "    </tr>\n",
       "    <tr>\n",
       "      <th>1</th>\n",
       "      <td>Home_and_Kitchen_5</td>\n",
       "      <td>5.0</td>\n",
       "      <td>CG</td>\n",
       "      <td>love it, a great upgrade from the original.  I...</td>\n",
       "    </tr>\n",
       "    <tr>\n",
       "      <th>2</th>\n",
       "      <td>Home_and_Kitchen_5</td>\n",
       "      <td>5.0</td>\n",
       "      <td>CG</td>\n",
       "      <td>This pillow saved my back. I love the look and...</td>\n",
       "    </tr>\n",
       "    <tr>\n",
       "      <th>3</th>\n",
       "      <td>Home_and_Kitchen_5</td>\n",
       "      <td>1.0</td>\n",
       "      <td>CG</td>\n",
       "      <td>Missing information on how to use it, but it i...</td>\n",
       "    </tr>\n",
       "    <tr>\n",
       "      <th>4</th>\n",
       "      <td>Home_and_Kitchen_5</td>\n",
       "      <td>5.0</td>\n",
       "      <td>CG</td>\n",
       "      <td>Very nice set. Good quality. We have had the s...</td>\n",
       "    </tr>\n",
       "  </tbody>\n",
       "</table>\n",
       "</div>"
      ],
      "text/plain": [
       "             category  rating label  \\\n",
       "0  Home_and_Kitchen_5     5.0    CG   \n",
       "1  Home_and_Kitchen_5     5.0    CG   \n",
       "2  Home_and_Kitchen_5     5.0    CG   \n",
       "3  Home_and_Kitchen_5     1.0    CG   \n",
       "4  Home_and_Kitchen_5     5.0    CG   \n",
       "\n",
       "                                               text_  \n",
       "0  Love this!  Well made, sturdy, and very comfor...  \n",
       "1  love it, a great upgrade from the original.  I...  \n",
       "2  This pillow saved my back. I love the look and...  \n",
       "3  Missing information on how to use it, but it i...  \n",
       "4  Very nice set. Good quality. We have had the s...  "
      ]
     },
     "execution_count": 3,
     "metadata": {},
     "output_type": "execute_result"
    }
   ],
   "source": [
    "#Importing dataset\n",
    "df = pd.read_csv('fake reviews dataset.csv')\n",
    "df.head()"
   ]
  },
  {
   "cell_type": "code",
   "execution_count": 3,
   "id": "4b3b538b-5490-411a-bc04-dcb53f78bbfd",
   "metadata": {},
   "outputs": [
    {
     "data": {
      "text/plain": [
       "CG    0.5\n",
       "OR    0.5\n",
       "Name: label, dtype: float64"
      ]
     },
     "execution_count": 3,
     "metadata": {},
     "output_type": "execute_result"
    }
   ],
   "source": [
    "df['label'].value_counts(normalize=True)"
   ]
  },
  {
   "cell_type": "markdown",
   "id": "05cd0077-1756-417d-a56f-97523f7d22b9",
   "metadata": {},
   "source": [
    "There we can see that we have a perfectly balanced dataset as far as our target."
   ]
  },
  {
   "cell_type": "code",
   "execution_count": 4,
   "id": "78ea703a-88c1-4ccb-b6a4-9376358321d6",
   "metadata": {},
   "outputs": [
    {
     "data": {
      "text/plain": [
       "Kindle_Store_5                  4730\n",
       "Books_5                         4370\n",
       "Pet_Supplies_5                  4254\n",
       "Home_and_Kitchen_5              4056\n",
       "Electronics_5                   3988\n",
       "Sports_and_Outdoors_5           3946\n",
       "Tools_and_Home_Improvement_5    3858\n",
       "Clothing_Shoes_and_Jewelry_5    3848\n",
       "Toys_and_Games_5                3794\n",
       "Movies_and_TV_5                 3588\n",
       "Name: category, dtype: int64"
      ]
     },
     "execution_count": 4,
     "metadata": {},
     "output_type": "execute_result"
    }
   ],
   "source": [
    "df['category'].value_counts()"
   ]
  },
  {
   "cell_type": "code",
   "execution_count": 5,
   "id": "034dc82e-b462-48fd-b1f2-5438d3fa94d6",
   "metadata": {},
   "outputs": [
    {
     "data": {
      "text/html": [
       "<div>\n",
       "<style scoped>\n",
       "    .dataframe tbody tr th:only-of-type {\n",
       "        vertical-align: middle;\n",
       "    }\n",
       "\n",
       "    .dataframe tbody tr th {\n",
       "        vertical-align: top;\n",
       "    }\n",
       "\n",
       "    .dataframe thead th {\n",
       "        text-align: right;\n",
       "    }\n",
       "</style>\n",
       "<table border=\"1\" class=\"dataframe\">\n",
       "  <thead>\n",
       "    <tr style=\"text-align: right;\">\n",
       "      <th></th>\n",
       "      <th>rating</th>\n",
       "    </tr>\n",
       "  </thead>\n",
       "  <tbody>\n",
       "    <tr>\n",
       "      <th>count</th>\n",
       "      <td>40432.000000</td>\n",
       "    </tr>\n",
       "    <tr>\n",
       "      <th>mean</th>\n",
       "      <td>4.256579</td>\n",
       "    </tr>\n",
       "    <tr>\n",
       "      <th>std</th>\n",
       "      <td>1.144354</td>\n",
       "    </tr>\n",
       "    <tr>\n",
       "      <th>min</th>\n",
       "      <td>1.000000</td>\n",
       "    </tr>\n",
       "    <tr>\n",
       "      <th>25%</th>\n",
       "      <td>4.000000</td>\n",
       "    </tr>\n",
       "    <tr>\n",
       "      <th>50%</th>\n",
       "      <td>5.000000</td>\n",
       "    </tr>\n",
       "    <tr>\n",
       "      <th>75%</th>\n",
       "      <td>5.000000</td>\n",
       "    </tr>\n",
       "    <tr>\n",
       "      <th>max</th>\n",
       "      <td>5.000000</td>\n",
       "    </tr>\n",
       "  </tbody>\n",
       "</table>\n",
       "</div>"
      ],
      "text/plain": [
       "             rating\n",
       "count  40432.000000\n",
       "mean       4.256579\n",
       "std        1.144354\n",
       "min        1.000000\n",
       "25%        4.000000\n",
       "50%        5.000000\n",
       "75%        5.000000\n",
       "max        5.000000"
      ]
     },
     "execution_count": 5,
     "metadata": {},
     "output_type": "execute_result"
    }
   ],
   "source": [
    "df.describe()"
   ]
  },
  {
   "cell_type": "code",
   "execution_count": 6,
   "id": "fab91030-1d16-4cce-8656-920c83fab120",
   "metadata": {},
   "outputs": [],
   "source": [
    "# Creating 'target' Column for Classification\n",
    "df['target'] = np.where(df['label'] == 'CG', 1, 0)"
   ]
  },
  {
   "cell_type": "markdown",
   "id": "f71d33c8-9b03-4fb2-b692-7c65e340aa06",
   "metadata": {},
   "source": [
    "### Distribution of categories by rating"
   ]
  },
  {
   "cell_type": "code",
   "execution_count": 7,
   "id": "4aca9a85-b294-4165-962f-de0cfa8ca5b5",
   "metadata": {},
   "outputs": [
    {
     "data": {
      "image/png": "[encoded data removed]",
      "text/plain": [
       "<Figure size 640x480 with 1 Axes>"
      ]
     },
     "metadata": {},
     "output_type": "display_data"
    }
   ],
   "source": [
    "# Bar Chart for Distribution of Categories by Rating\n",
    "sns.set_palette(\"Set2\")\n",
    "\n",
    "df_grouped = df.groupby(['category', 'rating']).size().unstack(fill_value=0)\n",
    "ax = df_grouped.plot(kind='bar', stacked=True)\n",
    "\n",
    "plt.xlabel('Categories')\n",
    "plt.ylabel('Count')\n",
    "plt.title('Distribution of Categories by Rating')\n",
    "plt.xticks(rotation=90)\n",
    "plt.legend(title='Rating')\n",
    "plt.tight_layout()\n",
    "plt.show()"
   ]
  },
  {
   "cell_type": "markdown",
   "id": "0ba7aaac-f765-478e-9e82-9331226f5317",
   "metadata": {},
   "source": [
    "Some categories, such as \"Books\" and \"Kindle Store,\" have a more substantial proportion of highly positive reviews (5.0), while others like \"Electronics\" and \"Pet Supplies\" have a relatively higher number of reviews with lower ratings (1.0, 2.0, and 3.0)."
   ]
  },
  {
   "cell_type": "code",
   "execution_count": 8,
   "id": "0e487f74-5fd8-4b50-8a0f-3cf824deafac",
   "metadata": {},
   "outputs": [
    {
     "data": {
      "text/plain": [
       "<Figure size 1200x600 with 0 Axes>"
      ]
     },
     "metadata": {},
     "output_type": "display_data"
    },
    {
     "data": {
      "image/png": "[encoded data removed]",
      "text/plain": [
       "<Figure size 640x480 with 1 Axes>"
      ]
     },
     "metadata": {},
     "output_type": "display_data"
    }
   ],
   "source": [
    "#Bar Chart for Distribution of Labels within Categories\n",
    "plt.figure(figsize=(12, 6))\n",
    "label_category_counts = df.groupby(['category', 'label']).size().unstack(fill_value=0)\n",
    "label_category_counts.plot(kind='bar', stacked=True, color=['pink', '#9B59B6'])\n",
    "plt.xlabel('Category')\n",
    "plt.ylabel('Count')\n",
    "plt.title('Distribution of Labels within Categories')\n",
    "plt.xticks(rotation=80)\n",
    "plt.legend(title='Label')\n",
    "plt.tight_layout()\n",
    "#plt.show();"
   ]
  },
  {
   "cell_type": "markdown",
   "id": "a70dd27e-103f-4abe-87f6-edcac0ee7c7f",
   "metadata": {},
   "source": [
    "-  The table shows an equal distribution of the \"CG\" and \"OR\" labels within each category. "
   ]
  },
  {
   "cell_type": "code",
   "execution_count": 9,
   "id": "993da101-d554-4d01-8abd-a0290605671e",
   "metadata": {},
   "outputs": [
    {
     "data": {
      "image/png": "[encoded data removed]",
      "text/plain": [
       "<Figure size 1200x500 with 1 Axes>"
      ]
     },
     "metadata": {},
     "output_type": "display_data"
    }
   ],
   "source": [
    "comp_gen = df[df['target'] == 1]\n",
    "human_gen = df[df['target'] ==0]\n",
    "\n",
    "fig, ax = plt.subplots(figsize=(12,5))\n",
    "ax1 = plt.hist(human_gen['text_'].str.len(), bins=15, color='r', label='Human review', alpha=0.5)\n",
    "ax2 = plt.hist(comp_gen['text_'].str.len(), bins=15, color= '#9B59B6', label='Computer generated review', alpha=0.8)\n",
    "plt.axvline(human_gen['text_'].str.len().mean(), color='red', linestyle='dashed', linewidth=2, label='Human Reviews')\n",
    "plt.axvline(comp_gen['text_'].str.len().mean(), color='green', linestyle='dashed', linewidth=2, label='Computer Reviews')\n",
    "plt.title(\"Distribution of Review's lenght\")\n",
    "plt.legend();"
   ]
  },
  {
   "cell_type": "markdown",
   "id": "ae743733-34ae-4093-9f34-558dd80cb16f",
   "metadata": {},
   "source": [
    "We can see here that the human generated reviews tends to be larger than the computer generated.\n",
    "\n",
    "Let's look now at the word count and evaluate their count"
   ]
  },
  {
   "cell_type": "code",
   "execution_count": 10,
   "id": "4f884dff-4d86-464c-816e-b892e82def9f",
   "metadata": {},
   "outputs": [
    {
     "data": {
      "image/png": "[encoded data removed]",
      "text/plain": [
       "<Figure size 1200x600 with 1 Axes>"
      ]
     },
     "metadata": {},
     "output_type": "display_data"
    }
   ],
   "source": [
    "# Calculating Word Count for each review\n",
    "df['word_count'] = df['text_'].apply(lambda x: len(x.split()))\n",
    "\n",
    "# Calculating Average Word Count by Label\n",
    "label_word_counts = df.groupby('label')['word_count'].mean().sort_values(ascending=False)\n",
    "\n",
    "plt.figure(figsize=(12, 6))\n",
    "label_word_counts.plot(kind='bar', color='#9B59B6') \n",
    "plt.xlabel('Label')\n",
    "plt.ylabel('Average Word Count')\n",
    "plt.title('Labels with the Longest Text')\n",
    "plt.xticks(rotation=90)\n",
    "plt.axhline(df['word_count'].mean(), color='red', linestyle='dashed', linewidth=2, label='Overall Avg. Word Count')\n",
    "plt.legend()\n",
    "plt.tight_layout()\n",
    "\n",
    "plt.show()"
   ]
  },
  {
   "cell_type": "markdown",
   "id": "aead6cc9-0889-4c3f-8cbb-28a537e8adb6",
   "metadata": {},
   "source": [
    "On average, reviews with the \"OR\" label have a higher word count compared to reviews labeled as \"CG.\" The mean word count for \"OR\" reviews is approximately 73.64 words, while the mean word count for \"CG\" reviews is lower at around 61.29 words."
   ]
  },
  {
   "cell_type": "code",
   "execution_count": 11,
   "id": "6fe3e6c6-838c-416c-b72e-0c135ab2cdf3",
   "metadata": {},
   "outputs": [
    {
     "data": {
      "text/html": [
       "<div>\n",
       "<style scoped>\n",
       "    .dataframe tbody tr th:only-of-type {\n",
       "        vertical-align: middle;\n",
       "    }\n",
       "\n",
       "    .dataframe tbody tr th {\n",
       "        vertical-align: top;\n",
       "    }\n",
       "\n",
       "    .dataframe thead th {\n",
       "        text-align: right;\n",
       "    }\n",
       "</style>\n",
       "<table border=\"1\" class=\"dataframe\">\n",
       "  <thead>\n",
       "    <tr style=\"text-align: right;\">\n",
       "      <th>rating</th>\n",
       "      <th>1.0</th>\n",
       "      <th>2.0</th>\n",
       "      <th>3.0</th>\n",
       "      <th>4.0</th>\n",
       "      <th>5.0</th>\n",
       "    </tr>\n",
       "    <tr>\n",
       "      <th>label</th>\n",
       "      <th></th>\n",
       "      <th></th>\n",
       "      <th></th>\n",
       "      <th></th>\n",
       "      <th></th>\n",
       "    </tr>\n",
       "  </thead>\n",
       "  <tbody>\n",
       "    <tr>\n",
       "      <th>CG</th>\n",
       "      <td>1063</td>\n",
       "      <td>962</td>\n",
       "      <td>1952</td>\n",
       "      <td>3920</td>\n",
       "      <td>12319</td>\n",
       "    </tr>\n",
       "    <tr>\n",
       "      <th>OR</th>\n",
       "      <td>1092</td>\n",
       "      <td>1005</td>\n",
       "      <td>1834</td>\n",
       "      <td>4045</td>\n",
       "      <td>12240</td>\n",
       "    </tr>\n",
       "  </tbody>\n",
       "</table>\n",
       "</div>"
      ],
      "text/plain": [
       "rating   1.0   2.0   3.0   4.0    5.0\n",
       "label                                \n",
       "CG      1063   962  1952  3920  12319\n",
       "OR      1092  1005  1834  4045  12240"
      ]
     },
     "execution_count": 11,
     "metadata": {},
     "output_type": "execute_result"
    }
   ],
   "source": [
    "# Examining the count of reviews by rating and label\n",
    "label_rating_counts = df.groupby(['label', 'rating']).size().unstack(fill_value=0)\n",
    "label_rating_counts"
   ]
  },
  {
   "cell_type": "code",
   "execution_count": 13,
   "id": "6501b0cb-76bf-4be4-b9f4-6e4b3f9aab6e",
   "metadata": {},
   "outputs": [
    {
     "data": {
      "text/plain": [
       "<Figure size 1200x600 with 0 Axes>"
      ]
     },
     "metadata": {},
     "output_type": "display_data"
    },
    {
     "data": {
      "image/png": "[encoded data removed]",
      "text/plain": [
       "<Figure size 640x480 with 1 Axes>"
      ]
     },
     "metadata": {},
     "output_type": "display_data"
    }
   ],
   "source": [
    "# Distribution of Ratings for Different Labels\n",
    "custom_purple_palette = ['#C39BD3', '#AF7AC5', '#9B59B6', '#6C3483', '#4A235A']\n",
    "\n",
    "plt.figure(figsize=(12, 6))\n",
    "label_rating_counts.plot(kind='bar', stacked=True, color=custom_purple_palette[::-1])  # Reverse the color palette\n",
    "\n",
    "plt.xlabel('Label')\n",
    "plt.ylabel('Count')\n",
    "plt.title('Distribution of Ratings for Different Labels')\n",
    "plt.xticks(rotation=0)\n",
    "plt.legend(title='Rating', labels=label_rating_counts.columns, loc='center left', bbox_to_anchor=(1.0, 0.5))\n",
    "\n",
    "plt.tight_layout()\n",
    "plt.show();"
   ]
  },
  {
   "cell_type": "markdown",
   "id": "008cedf4-afdd-42fe-b730-32f54cc2355d",
   "metadata": {},
   "source": [
    "- Both \"CG\" and \"OR\" labels exhibit a relatively balanced distribution of ratings. While both labels have a similar distribution of ratings, the \"CG\" label appears to have slightly fewer reviews with 4.0 and 5.0 ratings compared to the \"OR\" label. Across both labels, positive ratings (4.0 and 5.0) significantly outnumber negative ratings (1.0 and 2.0)."
   ]
  },
  {
   "cell_type": "code",
   "execution_count": 14,
   "id": "161a44fc-2ab7-479d-8c2a-14937735975a",
   "metadata": {},
   "outputs": [
    {
     "data": {
      "text/html": [
       "<div>\n",
       "<style scoped>\n",
       "    .dataframe tbody tr th:only-of-type {\n",
       "        vertical-align: middle;\n",
       "    }\n",
       "\n",
       "    .dataframe tbody tr th {\n",
       "        vertical-align: top;\n",
       "    }\n",
       "\n",
       "    .dataframe thead th {\n",
       "        text-align: right;\n",
       "    }\n",
       "</style>\n",
       "<table border=\"1\" class=\"dataframe\">\n",
       "  <thead>\n",
       "    <tr style=\"text-align: right;\">\n",
       "      <th>category</th>\n",
       "      <th>Books_5</th>\n",
       "      <th>Clothing_Shoes_and_Jewelry_5</th>\n",
       "      <th>Electronics_5</th>\n",
       "      <th>Home_and_Kitchen_5</th>\n",
       "      <th>Kindle_Store_5</th>\n",
       "      <th>Movies_and_TV_5</th>\n",
       "      <th>Pet_Supplies_5</th>\n",
       "      <th>Sports_and_Outdoors_5</th>\n",
       "      <th>Tools_and_Home_Improvement_5</th>\n",
       "      <th>Toys_and_Games_5</th>\n",
       "    </tr>\n",
       "    <tr>\n",
       "      <th>label</th>\n",
       "      <th></th>\n",
       "      <th></th>\n",
       "      <th></th>\n",
       "      <th></th>\n",
       "      <th></th>\n",
       "      <th></th>\n",
       "      <th></th>\n",
       "      <th></th>\n",
       "      <th></th>\n",
       "      <th></th>\n",
       "    </tr>\n",
       "  </thead>\n",
       "  <tbody>\n",
       "    <tr>\n",
       "      <th>CG</th>\n",
       "      <td>2185</td>\n",
       "      <td>1924</td>\n",
       "      <td>1994</td>\n",
       "      <td>2028</td>\n",
       "      <td>2365</td>\n",
       "      <td>1794</td>\n",
       "      <td>2127</td>\n",
       "      <td>1973</td>\n",
       "      <td>1929</td>\n",
       "      <td>1897</td>\n",
       "    </tr>\n",
       "    <tr>\n",
       "      <th>OR</th>\n",
       "      <td>2185</td>\n",
       "      <td>1924</td>\n",
       "      <td>1994</td>\n",
       "      <td>2028</td>\n",
       "      <td>2365</td>\n",
       "      <td>1794</td>\n",
       "      <td>2127</td>\n",
       "      <td>1973</td>\n",
       "      <td>1929</td>\n",
       "      <td>1897</td>\n",
       "    </tr>\n",
       "  </tbody>\n",
       "</table>\n",
       "</div>"
      ],
      "text/plain": [
       "category  Books_5  Clothing_Shoes_and_Jewelry_5  Electronics_5  \\\n",
       "label                                                            \n",
       "CG           2185                          1924           1994   \n",
       "OR           2185                          1924           1994   \n",
       "\n",
       "category  Home_and_Kitchen_5  Kindle_Store_5  Movies_and_TV_5  Pet_Supplies_5  \\\n",
       "label                                                                           \n",
       "CG                      2028            2365             1794            2127   \n",
       "OR                      2028            2365             1794            2127   \n",
       "\n",
       "category  Sports_and_Outdoors_5  Tools_and_Home_Improvement_5  \\\n",
       "label                                                           \n",
       "CG                         1973                          1929   \n",
       "OR                         1973                          1929   \n",
       "\n",
       "category  Toys_and_Games_5  \n",
       "label                       \n",
       "CG                    1897  \n",
       "OR                    1897  "
      ]
     },
     "execution_count": 14,
     "metadata": {},
     "output_type": "execute_result"
    }
   ],
   "source": [
    "label_category_counts = df.groupby(['label', 'category']).size().unstack(fill_value=0)\n",
    "label_category_counts"
   ]
  },
  {
   "cell_type": "markdown",
   "id": "0dbdd60a-67dd-4b5c-b577-5ee78939102d",
   "metadata": {},
   "source": [
    "### Word Cloud for Label column"
   ]
  },
  {
   "cell_type": "code",
   "execution_count": 15,
   "id": "8607ac5c-e5c8-43ed-9cd1-d5deecf86b4b",
   "metadata": {},
   "outputs": [],
   "source": [
    "# Filtering Data for 'CG' and 'OR' Labels\n",
    "df_cg = df[df['label'] == 'CG']  \n",
    "df_or = df[df['label'] == 'OR']"
   ]
  },
  {
   "cell_type": "code",
   "execution_count": 16,
   "id": "0090da8d-78e4-47a8-b21d-6941d4a0b28d",
   "metadata": {},
   "outputs": [
    {
     "ename": "FileNotFoundError",
     "evalue": "[Errno 2] No such file or directory: '/Users/katyaserbina/Documents/Flatiron/Project 4/NLP-Review-Detector/Ekaterina/face_picture.jpeg'",
     "output_type": "error",
     "traceback": [
      "\u001b[1;31m---------------------------------------------------------------------------\u001b[0m",
      "\u001b[1;31mFileNotFoundError\u001b[0m                         Traceback (most recent call last)",
      "Cell \u001b[1;32mIn[16], line 2\u001b[0m\n\u001b[0;32m      1\u001b[0m \u001b[38;5;66;03m# Word Cloud for 'OR' Label Using a Custom Mask\u001b[39;00m\n\u001b[1;32m----> 2\u001b[0m face_mask \u001b[38;5;241m=\u001b[39m np\u001b[38;5;241m.\u001b[39marray(\u001b[43mImage\u001b[49m\u001b[38;5;241;43m.\u001b[39;49m\u001b[43mopen\u001b[49m\u001b[43m(\u001b[49m\u001b[38;5;124;43m'\u001b[39;49m\u001b[38;5;124;43m/Users/katyaserbina/Documents/Flatiron/Project 4/NLP-Review-Detector/Ekaterina/face_picture.jpeg\u001b[39;49m\u001b[38;5;124;43m'\u001b[39;49m\u001b[43m)\u001b[49m)\n\u001b[0;32m      3\u001b[0m text_corpus \u001b[38;5;241m=\u001b[39m \u001b[38;5;124m\"\u001b[39m\u001b[38;5;124m \u001b[39m\u001b[38;5;124m\"\u001b[39m\u001b[38;5;241m.\u001b[39mjoin(df_or[\u001b[38;5;124m'\u001b[39m\u001b[38;5;124mtext_\u001b[39m\u001b[38;5;124m'\u001b[39m])\n\u001b[0;32m      5\u001b[0m wordcloud \u001b[38;5;241m=\u001b[39m WordCloud(\n\u001b[0;32m      6\u001b[0m     width\u001b[38;5;241m=\u001b[39m\u001b[38;5;241m600\u001b[39m,\n\u001b[0;32m      7\u001b[0m     height\u001b[38;5;241m=\u001b[39m\u001b[38;5;241m600\u001b[39m,\n\u001b[1;32m   (...)\u001b[0m\n\u001b[0;32m     11\u001b[0m     contour_width\u001b[38;5;241m=\u001b[39m\u001b[38;5;241m1\u001b[39m,\n\u001b[0;32m     12\u001b[0m )\u001b[38;5;241m.\u001b[39mgenerate(text_corpus)\n",
      "File \u001b[1;32m~\\anaconda3\\envs\\new_env\\lib\\site-packages\\PIL\\Image.py:3243\u001b[0m, in \u001b[0;36mopen\u001b[1;34m(fp, mode, formats)\u001b[0m\n\u001b[0;32m   3240\u001b[0m     filename \u001b[38;5;241m=\u001b[39m fp\n\u001b[0;32m   3242\u001b[0m \u001b[38;5;28;01mif\u001b[39;00m filename:\n\u001b[1;32m-> 3243\u001b[0m     fp \u001b[38;5;241m=\u001b[39m \u001b[43mbuiltins\u001b[49m\u001b[38;5;241;43m.\u001b[39;49m\u001b[43mopen\u001b[49m\u001b[43m(\u001b[49m\u001b[43mfilename\u001b[49m\u001b[43m,\u001b[49m\u001b[43m \u001b[49m\u001b[38;5;124;43m\"\u001b[39;49m\u001b[38;5;124;43mrb\u001b[39;49m\u001b[38;5;124;43m\"\u001b[39;49m\u001b[43m)\u001b[49m\n\u001b[0;32m   3244\u001b[0m     exclusive_fp \u001b[38;5;241m=\u001b[39m \u001b[38;5;28;01mTrue\u001b[39;00m\n\u001b[0;32m   3246\u001b[0m \u001b[38;5;28;01mtry\u001b[39;00m:\n",
      "\u001b[1;31mFileNotFoundError\u001b[0m: [Errno 2] No such file or directory: '/Users/katyaserbina/Documents/Flatiron/Project 4/NLP-Review-Detector/Ekaterina/face_picture.jpeg'"
     ]
    }
   ],
   "source": [
    "# Word Cloud for 'OR' Label Using a Custom Mask\n",
    "face_mask = np.array(Image.open('/Users/katyaserbina/Documents/Flatiron/Project 4/NLP-Review-Detector/Ekaterina/face_picture.jpeg'))\n",
    "text_corpus = \" \".join(df_or['text_'])\n",
    "\n",
    "wordcloud = WordCloud(\n",
    "    width=600,\n",
    "    height=600,\n",
    "    background_color='white',\n",
    "    mask=face_mask,\n",
    "    contour_color='black',  \n",
    "    contour_width=1,\n",
    ").generate(text_corpus)\n",
    "\n",
    "plt.figure(figsize=(8, 8))\n",
    "plt.imshow(wordcloud, interpolation='bilinear')\n",
    "plt.axis('off')\n",
    "plt.title('Word Cloud for \"OR\" Label ', fontsize=20)\n",
    "plt.show()"
   ]
  },
  {
   "cell_type": "code",
   "execution_count": null,
   "id": "33bfa5c5-e70e-4bf1-a336-3252fb0a6771",
   "metadata": {},
   "outputs": [],
   "source": [
    "# Word Cloud for 'CG' Label Using a Custom Mask\n",
    "robot_mask = np.array(Image.open('/Users/katyaserbina/Documents/Flatiron/Project 4/NLP-Review-Detector/Ekaterina/SIlhouette.png'))\n",
    "text_corpus_2 = \" \".join(df_cg['text_'])\n",
    "\n",
    "wordcloud = WordCloud(\n",
    "    width=800,\n",
    "    height=800,\n",
    "    background_color='white',\n",
    "    mask=robot_mask,\n",
    "    contour_color='black',  \n",
    "    contour_width=1,\n",
    ").generate(text_corpus_2)\n",
    "\n",
    "\n",
    "plt.figure(figsize=(8, 8))\n",
    "plt.imshow(wordcloud, interpolation='bilinear')\n",
    "plt.axis('off')\n",
    "plt.title('Word Cloud for \"CG\" Label ', fontsize=20)\n",
    "plt.show()"
   ]
  },
  {
   "cell_type": "markdown",
   "id": "654f9b10-bf32-4ad0-9690-1e06df629299",
   "metadata": {},
   "source": [
    "# Data Preprocessing"
   ]
  },
  {
   "cell_type": "markdown",
   "id": "17583586-ab05-4182-9acc-1d5e645fff49",
   "metadata": {},
   "source": [
    "## Text Preprocessing: Tokenization & Lemmantization\n",
    "\n",
    "One of the most important things to do when preprocessing language data is to tokenize them, and apply either lemmantizing or stemming.\n",
    "\n",
    "We decided to go for stemming since is richer, and in order to avoid data leakage we created functions for all the preprocessing to apply in the train and test data once we split it"
   ]
  },
  {
   "cell_type": "code",
   "execution_count": 4,
   "id": "40f83659-9fc6-475b-a6b6-d7bea1e7cd97",
   "metadata": {},
   "outputs": [],
   "source": [
    "# Defining Tokenizer function\n",
    "\n",
    "def tokenizer(x):\n",
    "    \n",
    "    corpus = [word_tokenize(doc) for doc in x]\n",
    "\n",
    "# Getting common stop words in english that we'll remove during tokenization/text normalization\n",
    "    stop_words = stopwords.words('english')\n",
    "    corpus_no_stopwords = []\n",
    "    for words in corpus:\n",
    "        docs = [x.lower() for x in words if ((x.isalpha()) & (x not in stop_words))]\n",
    "        corpus_no_stopwords.append(docs)\n",
    "    return corpus_no_stopwords\n",
    "\n",
    "# Defining Lemmatizer function, we can decide with the parameter \"as_string\" if we want to have the result tokenized or join\n",
    "\n",
    "def lemmatizer(corpus, as_string=True):\n",
    "    lem = WordNetLemmatizer()\n",
    "# Defining an inner function 'pos_tagger'    \n",
    "    def pos_tagger(nltk_tag):\n",
    "        if nltk_tag.startswith('J'):\n",
    "            return wordnet.ADJ\n",
    "        elif nltk_tag.startswith('V'):\n",
    "            return wordnet.VERB\n",
    "        elif nltk_tag.startswith('N'):\n",
    "            return wordnet.NOUN\n",
    "        elif nltk_tag.startswith('R'):\n",
    "            return wordnet.ADV\n",
    "        else:         \n",
    "            return None\n",
    "    lemmatized_corpus = []\n",
    "    for sentence in corpus:\n",
    "        pos_tags = pos_tag(sentence)\n",
    "        lemmatized_sentence = []\n",
    "        for word, tag in pos_tags:\n",
    "            pos = pos_tagger(tag)\n",
    "            if pos is not None:\n",
    "                lemmatized_word = lem.lemmatize(word, pos)\n",
    "            else:\n",
    "                lemmatized_word = lem.lemmatize(word)\n",
    "            lemmatized_sentence.append(lemmatized_word)\n",
    "        lemmatized_corpus.append(lemmatized_sentence)\n",
    "    if as_string:\n",
    "        lemmatized_corpus  = [' '.join(x) for x in lemmatized_corpus]\n",
    "    return lemmatized_corpus\n",
    "    \n",
    "# After processing all words in the sentence, the lemmatized_sentence is added to the lemmatized_corpus\n",
    "        "
   ]
  },
  {
   "cell_type": "markdown",
   "id": "2e476822-c81d-4753-8edb-19807b3f1b25",
   "metadata": {},
   "source": [
    "### Splitting Data into Training and Testing Sets"
   ]
  },
  {
   "cell_type": "code",
   "execution_count": 7,
   "id": "c0ea3d0f-34ef-4f77-b81e-ce68a3fbd707",
   "metadata": {},
   "outputs": [],
   "source": [
    "# Dividing train and test data, setting 30% for test\n",
    "\n",
    "X_train, X_test, y_train,y_test = train_test_split(df['text_'],df['target'], test_size=0.3,random_state=42)\n",
    "\n",
    "# Preprocessing both Train and Test Data\n",
    "X_train_preprocessed = lemmatizer(tokenizer(X_train))\n",
    "X_test_preprocessed = lemmatizer(tokenizer(X_test))"
   ]
  },
  {
   "cell_type": "markdown",
   "id": "22781fb0-adf4-4b27-a7c7-0acd8d3a9d82",
   "metadata": {},
   "source": [
    "## Baseline model testing two different vectorizers\n",
    "\n",
    "The next step in our preprocessing is to vectorize the sentences, to do that we need to choose either Count Vectorizer and TF-IDF Vectorizer, to decide we'll run a Logistic Regression and a Random Forest with the data preprocessed in both ways to compare.\n",
    "\n",
    "To account for the overfitting of Random Forest without any type of hyperparameter tuning, we'll apply cross validationt to these models.\n",
    "\n",
    "Since we have balanced data, and there's not significant difference between having false negatives and false positives, we decided to use accuracy as a metric\n",
    "\n",
    "### Random Forest and Logistic Regression with the Count Vectorizer"
   ]
  },
  {
   "cell_type": "code",
   "execution_count": 19,
   "id": "34e47105-b3c6-4263-8bee-54bdf03869f3",
   "metadata": {},
   "outputs": [
    {
     "data": {
      "text/plain": [
       "0.7627021346850904"
      ]
     },
     "execution_count": 19,
     "metadata": {},
     "output_type": "execute_result"
    }
   ],
   "source": [
    "# Train and Evaluate Random Forest Model with CountVectorizer\n",
    "\n",
    "steps = [('countvec',CountVectorizer(min_df = 0.05, max_df = 0.95)),('rfc',RandomForestClassifier(n_estimators=200,random_state=42))]\n",
    "pipe_cv_rf = Pipeline(steps)\n",
    "pipe_cv_rf.fit(X_train_preprocessed, y_train)\n",
    "\n",
    "# Calculating Mean Cross-Validation Score for Random Forest Model with CountVectorizer\n",
    "crossval_rf_cv = np.mean(cross_val_score(pipe_cv_rf, X_train_preprocessed,y_train,scoring='accuracy',cv=5))\n",
    "\n",
    "crossval_rf_cv"
   ]
  },
  {
   "cell_type": "code",
   "execution_count": 20,
   "id": "2d0fa2fa-3f31-455e-9523-8dd71e4b9846",
   "metadata": {},
   "outputs": [
    {
     "data": {
      "text/plain": [
       "0.7266269054338063"
      ]
     },
     "execution_count": 20,
     "metadata": {},
     "output_type": "execute_result"
    }
   ],
   "source": [
    "# Train and Evaluate Logistic Regression Model with CountVectorizer\n",
    "steps[1] = ('logreg',LogisticRegression(random_state=42))\n",
    "pipe_cv_lr = Pipeline(steps)\n",
    "pipe_cv_lr.fit(X_train_preprocessed, y_train)\n",
    "\n",
    "# Calculating Mean Cross-Validation Score for Logistic Regression Model with CountVectorizer\n",
    "crossval_lr_cv = np.mean(cross_val_score(pipe_cv_lr, X_train_preprocessed,y_train,scoring='accuracy',cv=5))\n",
    "\n",
    "crossval_lr_cv"
   ]
  },
  {
   "cell_type": "markdown",
   "id": "861cfa49-37e2-462b-bb2a-79dd9f2f7276",
   "metadata": {},
   "source": [
    "### Random Forest and Logistic Regression with the TF-IDF Vectorizer"
   ]
  },
  {
   "cell_type": "code",
   "execution_count": 21,
   "id": "0669fb6b-1585-4e4c-ad7b-742d085cbe32",
   "metadata": {},
   "outputs": [
    {
     "data": {
      "text/plain": [
       "0.7631969029932032"
      ]
     },
     "execution_count": 21,
     "metadata": {},
     "output_type": "execute_result"
    }
   ],
   "source": [
    "# Train and Evaluate Random Forest Model with TfidfVectorizer\n",
    "steps = [('tfidfvec',TfidfVectorizer(min_df = 0.05, max_df = 0.95)),('rfc',RandomForestClassifier(n_estimators=200,random_state=42))]\n",
    "pipe_idf_rf = Pipeline(steps)\n",
    "pipe_idf_rf.fit(X_train_preprocessed, y_train)\n",
    "\n",
    "# Calculating Mean Cross-Validation Score for Random Forest Model with TfidfVectorizer\n",
    "crossval_rf_idf = np.mean(cross_val_score(pipe_idf_rf, X_train_preprocessed,y_train,scoring='accuracy',cv=5))\n",
    "\n",
    "crossval_rf_idf"
   ]
  },
  {
   "cell_type": "code",
   "execution_count": 22,
   "id": "169695ac-7fff-41f3-b597-d0c7ae1fe960",
   "metadata": {},
   "outputs": [
    {
     "data": {
      "text/plain": [
       "0.7267683043675561"
      ]
     },
     "execution_count": 22,
     "metadata": {},
     "output_type": "execute_result"
    }
   ],
   "source": [
    "# Train and Evaluate Logistic Regression Model with TfidfVectorizer\n",
    "steps[1] = ('logreg',LogisticRegression(random_state=42))\n",
    "pipe_idf_lr = Pipeline(steps)\n",
    "pipe_idf_lr.fit(X_train_preprocessed, y_train)\n",
    "\n",
    "# Calculating Mean Cross-Validation Score for Logistic Regression Model with TfidfVectorizer\n",
    "crossval_lr_idf = np.mean(cross_val_score(pipe_idf_lr, X_train_preprocessed,y_train,scoring='accuracy',cv=5))\n",
    "\n",
    "crossval_lr_idf"
   ]
  },
  {
   "cell_type": "markdown",
   "id": "ada7ea6d-814b-4450-a644-8bb6904658cb",
   "metadata": {},
   "source": [
    "After evaluating the models with both types of vectorizers, we decided to choose the count vectorizer for further analysis"
   ]
  },
  {
   "cell_type": "code",
   "execution_count": 8,
   "id": "0d1227e8-246b-4c6c-9777-5d79cd48bb31",
   "metadata": {},
   "outputs": [],
   "source": [
    "# Instantiating the Count Vectorizer and applying it to both train and test data\n",
    "\n",
    "vectorizer = CountVectorizer(min_df=0.05,max_df=0.95)\n",
    "\n",
    "X_train_vec = vectorizer.fit_transform(X_train_preprocessed)\n",
    "X_test_vec = vectorizer.transform(X_test_preprocessed)"
   ]
  },
  {
   "cell_type": "markdown",
   "id": "af1be4aa-f6a2-433b-9250-82562de59ee1",
   "metadata": {},
   "source": [
    "## Hyper Parameter Tuning\n",
    "\n",
    "### Parameter Grids\n",
    "\n",
    "Defining parameter grids for all of the models we will try"
   ]
  },
  {
   "cell_type": "code",
   "execution_count": 24,
   "id": "56b89a4a-8be1-411d-993b-fccc8566e493",
   "metadata": {},
   "outputs": [],
   "source": [
    "# Defining Hyperparameter Grids for Random Forest and Logistic Regression Models\n",
    "param_grid_random_forest = {'n_estimators':[100,150,200],\n",
    "                       'max_depth':[2,3,4,5],\n",
    "                       'min_samples_leaf':[1,2,3]\n",
    "                      }\n",
    "\n",
    "param_grid_logistic_regression = {'penalty':['l1', 'l2', 'elasticnet', None],\n",
    "                 'C':[0.001,0.01,0.1,1,10,100],\n",
    "                 'solver':['lbfgs', 'liblinear', 'newton-cg', 'newton-cholesky', 'sag', 'saga']\n",
    "                }\n",
    "\n",
    "param_grid_ada = {'n_estimators':[50,100,150,200],\n",
    "                  'learning_rate':[0.01,0.1,0.2,0.5,1]\n",
    "                 }\n",
    "\n",
    "param_grid_gradient = {'n_estimators':[50,100,150,200],\n",
    "                       'learning_rate':[0.01,0.1,0.2,0.5,1],\n",
    "                       'max_depth':[1,2,3,4]\n",
    "                      }\n",
    "\n",
    "param_grid_xgb = {\n",
    "    'n_estimators': [100, 200],\n",
    "    'learning_rate': [0.01, 0.05, 0.1],\n",
    "    'max_depth': [3, 5, 7],\n",
    "    'subsample': [0.8, 0.9, 1.0],\n",
    "    'gamma': [0, 0.1, 0.2],\n",
    "    'reg_lambda': [1, 1.5, 2]\n",
    "}"
   ]
  },
  {
   "cell_type": "markdown",
   "id": "7c1f445d-a0dc-4593-8963-008339e35e65",
   "metadata": {},
   "source": [
    "### Hyperparameter Tuning with GridSearchCV"
   ]
  },
  {
   "cell_type": "code",
   "execution_count": 25,
   "id": "2662d639-5cf2-48cf-8954-1864974878ae",
   "metadata": {},
   "outputs": [],
   "source": [
    "# Applying GridSearchCV on different models to get the best set of hyper-parameters for each one\n",
    "\n",
    "gs_rf = GridSearchCV(estimator=RandomForestClassifier(n_estimators=200,random_state=42), param_grid=param_grid_random_forest,scoring='accuracy',cv=5,error_score=0)\n",
    "gs_lr = GridSearchCV(estimator=LogisticRegression(random_state=42,max_iter=10000), param_grid=param_grid_logistic_regression,scoring='accuracy',cv=5,error_score=0)\n",
    "gs_ada = GridSearchCV(estimator=AdaBoostClassifier(random_state=42), param_grid=param_grid_ada,scoring='accuracy',cv=5,error_score=0)\n",
    "gs_gradient = GridSearchCV(estimator=GradientBoostingClassifier(random_state=42), param_grid=param_grid_gradient,scoring='accuracy',cv=5,error_score=0)\n",
    "gs_xgb = GridSearchCV(estimator=xgboost.XGBClassifier(random_state=42, objective='binary:logistic'), param_grid=param_grid_xgb,scoring='accuracy',cv=5,error_score=0)"
   ]
  },
  {
   "cell_type": "code",
   "execution_count": 26,
   "id": "53f1ee20-b067-4b24-8307-025885d7f9a5",
   "metadata": {},
   "outputs": [
    {
     "data": {
      "text/html": [
       "<style>#sk-container-id-1 {color: black;}#sk-container-id-1 pre{padding: 0;}#sk-container-id-1 div.sk-toggleable {background-color: white;}#sk-container-id-1 label.sk-toggleable__label {cursor: pointer;display: block;width: 100%;margin-bottom: 0;padding: 0.3em;box-sizing: border-box;text-align: center;}#sk-container-id-1 label.sk-toggleable__label-arrow:before {content: \"▸\";float: left;margin-right: 0.25em;color: #696969;}#sk-container-id-1 label.sk-toggleable__label-arrow:hover:before {color: black;}#sk-container-id-1 div.sk-estimator:hover label.sk-toggleable__label-arrow:before {color: black;}#sk-container-id-1 div.sk-toggleable__content {max-height: 0;max-width: 0;overflow: hidden;text-align: left;background-color: #f0f8ff;}#sk-container-id-1 div.sk-toggleable__content pre {margin: 0.2em;color: black;border-radius: 0.25em;background-color: #f0f8ff;}#sk-container-id-1 input.sk-toggleable__control:checked~div.sk-toggleable__content {max-height: 200px;max-width: 100%;overflow: auto;}#sk-container-id-1 input.sk-toggleable__control:checked~label.sk-toggleable__label-arrow:before {content: \"▾\";}#sk-container-id-1 div.sk-estimator input.sk-toggleable__control:checked~label.sk-toggleable__label {background-color: #d4ebff;}#sk-container-id-1 div.sk-label input.sk-toggleable__control:checked~label.sk-toggleable__label {background-color: #d4ebff;}#sk-container-id-1 input.sk-hidden--visually {border: 0;clip: rect(1px 1px 1px 1px);clip: rect(1px, 1px, 1px, 1px);height: 1px;margin: -1px;overflow: hidden;padding: 0;position: absolute;width: 1px;}#sk-container-id-1 div.sk-estimator {font-family: monospace;background-color: #f0f8ff;border: 1px dotted black;border-radius: 0.25em;box-sizing: border-box;margin-bottom: 0.5em;}#sk-container-id-1 div.sk-estimator:hover {background-color: #d4ebff;}#sk-container-id-1 div.sk-parallel-item::after {content: \"\";width: 100%;border-bottom: 1px solid gray;flex-grow: 1;}#sk-container-id-1 div.sk-label:hover label.sk-toggleable__label {background-color: #d4ebff;}#sk-container-id-1 div.sk-serial::before {content: \"\";position: absolute;border-left: 1px solid gray;box-sizing: border-box;top: 0;bottom: 0;left: 50%;z-index: 0;}#sk-container-id-1 div.sk-serial {display: flex;flex-direction: column;align-items: center;background-color: white;padding-right: 0.2em;padding-left: 0.2em;position: relative;}#sk-container-id-1 div.sk-item {position: relative;z-index: 1;}#sk-container-id-1 div.sk-parallel {display: flex;align-items: stretch;justify-content: center;background-color: white;position: relative;}#sk-container-id-1 div.sk-item::before, #sk-container-id-1 div.sk-parallel-item::before {content: \"\";position: absolute;border-left: 1px solid gray;box-sizing: border-box;top: 0;bottom: 0;left: 50%;z-index: -1;}#sk-container-id-1 div.sk-parallel-item {display: flex;flex-direction: column;z-index: 1;position: relative;background-color: white;}#sk-container-id-1 div.sk-parallel-item:first-child::after {align-self: flex-end;width: 50%;}#sk-container-id-1 div.sk-parallel-item:last-child::after {align-self: flex-start;width: 50%;}#sk-container-id-1 div.sk-parallel-item:only-child::after {width: 0;}#sk-container-id-1 div.sk-dashed-wrapped {border: 1px dashed gray;margin: 0 0.4em 0.5em 0.4em;box-sizing: border-box;padding-bottom: 0.4em;background-color: white;}#sk-container-id-1 div.sk-label label {font-family: monospace;font-weight: bold;display: inline-block;line-height: 1.2em;}#sk-container-id-1 div.sk-label-container {text-align: center;}#sk-container-id-1 div.sk-container {/* jupyter's `normalize.less` sets `[hidden] { display: none; }` but bootstrap.min.css set `[hidden] { display: none !important; }` so we also need the `!important` here to be able to override the default hidden behavior on the sphinx rendered scikit-learn.org. See: https://github.com/scikit-learn/scikit-learn/issues/21755 */display: inline-block !important;position: relative;}#sk-container-id-1 div.sk-text-repr-fallback {display: none;}</style><div id=\"sk-container-id-1\" class=\"sk-top-container\"><div class=\"sk-text-repr-fallback\"><pre>GridSearchCV(cv=5, error_score=0,\n",
       "             estimator=XGBClassifier(base_score=None, booster=None,\n",
       "                                     callbacks=None, colsample_bylevel=None,\n",
       "                                     colsample_bynode=None,\n",
       "                                     colsample_bytree=None,\n",
       "                                     early_stopping_rounds=None,\n",
       "                                     enable_categorical=False, eval_metric=None,\n",
       "                                     feature_types=None, gamma=None,\n",
       "                                     gpu_id=None, grow_policy=None,\n",
       "                                     importance_type=None,\n",
       "                                     interaction_constraints=None,\n",
       "                                     learn...\n",
       "                                     max_delta_step=None, max_depth=None,\n",
       "                                     max_leaves=None, min_child_weight=None,\n",
       "                                     missing=nan, monotone_constraints=None,\n",
       "                                     n_estimators=100, n_jobs=None,\n",
       "                                     num_parallel_tree=None, predictor=None,\n",
       "                                     random_state=42, ...),\n",
       "             param_grid={&#x27;gamma&#x27;: [0, 0.1, 0.2],\n",
       "                         &#x27;learning_rate&#x27;: [0.01, 0.05, 0.1],\n",
       "                         &#x27;max_depth&#x27;: [3, 5, 7], &#x27;n_estimators&#x27;: [100, 200],\n",
       "                         &#x27;reg_lambda&#x27;: [1, 1.5, 2],\n",
       "                         &#x27;subsample&#x27;: [0.8, 0.9, 1.0]},\n",
       "             scoring=&#x27;accuracy&#x27;)</pre><b>In a Jupyter environment, please rerun this cell to show the HTML representation or trust the notebook. <br />On GitHub, the HTML representation is unable to render, please try loading this page with nbviewer.org.</b></div><div class=\"sk-container\" hidden><div class=\"sk-item sk-dashed-wrapped\"><div class=\"sk-label-container\"><div class=\"sk-label sk-toggleable\"><input class=\"sk-toggleable__control sk-hidden--visually\" id=\"sk-estimator-id-1\" type=\"checkbox\" ><label for=\"sk-estimator-id-1\" class=\"sk-toggleable__label sk-toggleable__label-arrow\">GridSearchCV</label><div class=\"sk-toggleable__content\"><pre>GridSearchCV(cv=5, error_score=0,\n",
       "             estimator=XGBClassifier(base_score=None, booster=None,\n",
       "                                     callbacks=None, colsample_bylevel=None,\n",
       "                                     colsample_bynode=None,\n",
       "                                     colsample_bytree=None,\n",
       "                                     early_stopping_rounds=None,\n",
       "                                     enable_categorical=False, eval_metric=None,\n",
       "                                     feature_types=None, gamma=None,\n",
       "                                     gpu_id=None, grow_policy=None,\n",
       "                                     importance_type=None,\n",
       "                                     interaction_constraints=None,\n",
       "                                     learn...\n",
       "                                     max_delta_step=None, max_depth=None,\n",
       "                                     max_leaves=None, min_child_weight=None,\n",
       "                                     missing=nan, monotone_constraints=None,\n",
       "                                     n_estimators=100, n_jobs=None,\n",
       "                                     num_parallel_tree=None, predictor=None,\n",
       "                                     random_state=42, ...),\n",
       "             param_grid={&#x27;gamma&#x27;: [0, 0.1, 0.2],\n",
       "                         &#x27;learning_rate&#x27;: [0.01, 0.05, 0.1],\n",
       "                         &#x27;max_depth&#x27;: [3, 5, 7], &#x27;n_estimators&#x27;: [100, 200],\n",
       "                         &#x27;reg_lambda&#x27;: [1, 1.5, 2],\n",
       "                         &#x27;subsample&#x27;: [0.8, 0.9, 1.0]},\n",
       "             scoring=&#x27;accuracy&#x27;)</pre></div></div></div><div class=\"sk-parallel\"><div class=\"sk-parallel-item\"><div class=\"sk-item\"><div class=\"sk-label-container\"><div class=\"sk-label sk-toggleable\"><input class=\"sk-toggleable__control sk-hidden--visually\" id=\"sk-estimator-id-2\" type=\"checkbox\" ><label for=\"sk-estimator-id-2\" class=\"sk-toggleable__label sk-toggleable__label-arrow\">estimator: XGBClassifier</label><div class=\"sk-toggleable__content\"><pre>XGBClassifier(base_score=None, booster=None, callbacks=None,\n",
       "              colsample_bylevel=None, colsample_bynode=None,\n",
       "              colsample_bytree=None, early_stopping_rounds=None,\n",
       "              enable_categorical=False, eval_metric=None, feature_types=None,\n",
       "              gamma=None, gpu_id=None, grow_policy=None, importance_type=None,\n",
       "              interaction_constraints=None, learning_rate=None, max_bin=None,\n",
       "              max_cat_threshold=None, max_cat_to_onehot=None,\n",
       "              max_delta_step=None, max_depth=None, max_leaves=None,\n",
       "              min_child_weight=None, missing=nan, monotone_constraints=None,\n",
       "              n_estimators=100, n_jobs=None, num_parallel_tree=None,\n",
       "              predictor=None, random_state=42, ...)</pre></div></div></div><div class=\"sk-serial\"><div class=\"sk-item\"><div class=\"sk-estimator sk-toggleable\"><input class=\"sk-toggleable__control sk-hidden--visually\" id=\"sk-estimator-id-3\" type=\"checkbox\" ><label for=\"sk-estimator-id-3\" class=\"sk-toggleable__label sk-toggleable__label-arrow\">XGBClassifier</label><div class=\"sk-toggleable__content\"><pre>XGBClassifier(base_score=None, booster=None, callbacks=None,\n",
       "              colsample_bylevel=None, colsample_bynode=None,\n",
       "              colsample_bytree=None, early_stopping_rounds=None,\n",
       "              enable_categorical=False, eval_metric=None, feature_types=None,\n",
       "              gamma=None, gpu_id=None, grow_policy=None, importance_type=None,\n",
       "              interaction_constraints=None, learning_rate=None, max_bin=None,\n",
       "              max_cat_threshold=None, max_cat_to_onehot=None,\n",
       "              max_delta_step=None, max_depth=None, max_leaves=None,\n",
       "              min_child_weight=None, missing=nan, monotone_constraints=None,\n",
       "              n_estimators=100, n_jobs=None, num_parallel_tree=None,\n",
       "              predictor=None, random_state=42, ...)</pre></div></div></div></div></div></div></div></div></div></div>"
      ],
      "text/plain": [
       "GridSearchCV(cv=5, error_score=0,\n",
       "             estimator=XGBClassifier(base_score=None, booster=None,\n",
       "                                     callbacks=None, colsample_bylevel=None,\n",
       "                                     colsample_bynode=None,\n",
       "                                     colsample_bytree=None,\n",
       "                                     early_stopping_rounds=None,\n",
       "                                     enable_categorical=False, eval_metric=None,\n",
       "                                     feature_types=None, gamma=None,\n",
       "                                     gpu_id=None, grow_policy=None,\n",
       "                                     importance_type=None,\n",
       "                                     interaction_constraints=None,\n",
       "                                     learn...\n",
       "                                     max_delta_step=None, max_depth=None,\n",
       "                                     max_leaves=None, min_child_weight=None,\n",
       "                                     missing=nan, monotone_constraints=None,\n",
       "                                     n_estimators=100, n_jobs=None,\n",
       "                                     num_parallel_tree=None, predictor=None,\n",
       "                                     random_state=42, ...),\n",
       "             param_grid={'gamma': [0, 0.1, 0.2],\n",
       "                         'learning_rate': [0.01, 0.05, 0.1],\n",
       "                         'max_depth': [3, 5, 7], 'n_estimators': [100, 200],\n",
       "                         'reg_lambda': [1, 1.5, 2],\n",
       "                         'subsample': [0.8, 0.9, 1.0]},\n",
       "             scoring='accuracy')"
      ]
     },
     "execution_count": 26,
     "metadata": {},
     "output_type": "execute_result"
    }
   ],
   "source": [
    "# Fitting each GridSearch object with out training data\n",
    "\n",
    "gs_rf.fit(X_train_vec,y_train)\n",
    "gs_lr.fit(X_train_vec,y_train)\n",
    "gs_ada.fit(X_train_vec,y_train)\n",
    "gs_gradient.fit(X_train_vec,y_train)\n",
    "gs_xgb.fit(X_train_vec,y_train)"
   ]
  },
  {
   "cell_type": "code",
   "execution_count": 27,
   "id": "434e8668-7989-4628-b160-317991922578",
   "metadata": {},
   "outputs": [],
   "source": [
    "# Best Hyperparameters for Random Forest Model\n",
    "best_random_forest = gs_rf.best_estimator_\n",
    "best_logistic_regression = gs_lr.best_estimator_\n",
    "best_ada_boost = gs_ada.best_estimator_\n",
    "best_gradient = gs_gradient.best_estimator_\n",
    "best_xgboost = gs_xgb.best_estimator_"
   ]
  },
  {
   "cell_type": "code",
   "execution_count": 28,
   "id": "c4933aa0-48bb-45a9-9174-65de81915057",
   "metadata": {},
   "outputs": [
    {
     "data": {
      "text/plain": [
       "0.7006221915118195"
      ]
     },
     "execution_count": 28,
     "metadata": {},
     "output_type": "execute_result"
    }
   ],
   "source": [
    "# Score for the Random Forest Model with best hyper parameters\n",
    "gs_rf.best_score_"
   ]
  },
  {
   "cell_type": "code",
   "execution_count": 29,
   "id": "61f45739-ed03-40a8-9cc6-f8e53e6df743",
   "metadata": {},
   "outputs": [
    {
     "data": {
      "text/plain": [
       "0.7277222181649535"
      ]
     },
     "execution_count": 29,
     "metadata": {},
     "output_type": "execute_result"
    }
   ],
   "source": [
    "# Score for the Logistic Regression Model with best hyper parameters\n",
    "gs_lr.best_score_"
   ]
  },
  {
   "cell_type": "code",
   "execution_count": 30,
   "id": "165f92b7-98d0-4c0f-a1b7-b3b16c38b96b",
   "metadata": {},
   "outputs": [
    {
     "data": {
      "text/plain": [
       "0.7383930532070212"
      ]
     },
     "execution_count": 30,
     "metadata": {},
     "output_type": "execute_result"
    }
   ],
   "source": [
    "# Score for the Ada Booster Model with best hyper parameters\n",
    "gs_ada.best_score_"
   ]
  },
  {
   "cell_type": "code",
   "execution_count": 31,
   "id": "b4665527-a91a-4fd7-be9f-482ed883bf8d",
   "metadata": {},
   "outputs": [
    {
     "data": {
      "text/plain": [
       "0.7741148506644245"
      ]
     },
     "execution_count": 31,
     "metadata": {},
     "output_type": "execute_result"
    }
   ],
   "source": [
    "# Score for the Gradient Booster Model with best hyper parameters\n",
    "gs_gradient.best_score_"
   ]
  },
  {
   "cell_type": "code",
   "execution_count": 32,
   "id": "02b6250f-cf99-443c-87df-21cb9ca318cd",
   "metadata": {},
   "outputs": [
    {
     "data": {
      "text/plain": [
       "0.7775068208928113"
      ]
     },
     "execution_count": 32,
     "metadata": {},
     "output_type": "execute_result"
    }
   ],
   "source": [
    "# Score for the XGBoost Model with best hyper parameters\n",
    "gs_xgb.best_score_"
   ]
  },
  {
   "cell_type": "markdown",
   "id": "a7a66ee3-b406-43ac-b0c8-43f85e9ee3f7",
   "metadata": {},
   "source": [
    "## Best XGBoost Estimator and Bagging"
   ]
  },
  {
   "cell_type": "code",
   "execution_count": 33,
   "id": "f546e5a6-fc08-443e-b8ff-c4519ed82de0",
   "metadata": {},
   "outputs": [
    {
     "data": {
      "text/plain": [
       "0.7797682425722334"
      ]
     },
     "execution_count": 33,
     "metadata": {},
     "output_type": "execute_result"
    }
   ],
   "source": [
    "# Bagging with XGBoost Classifier\n",
    "bagging = BaggingClassifier(estimator=best_xgboost, n_estimators=100)\n",
    "\n",
    "crossval_xgb_bagging = np.mean(cross_val_score(bagging, X_train_vec, y_train, scoring='accuracy', cv=5))\n",
    "crossval_xgb_bagging"
   ]
  },
  {
   "cell_type": "markdown",
   "id": "ec171c18-0eed-4a34-a192-ee5121df16a4",
   "metadata": {},
   "source": [
    "### Averaging the Models"
   ]
  },
  {
   "cell_type": "code",
   "execution_count": 34,
   "id": "5d70acf0-b19b-4581-8b56-29c6da50e2f2",
   "metadata": {},
   "outputs": [
    {
     "data": {
      "text/html": [
       "<style>#sk-container-id-2 {color: black;}#sk-container-id-2 pre{padding: 0;}#sk-container-id-2 div.sk-toggleable {background-color: white;}#sk-container-id-2 label.sk-toggleable__label {cursor: pointer;display: block;width: 100%;margin-bottom: 0;padding: 0.3em;box-sizing: border-box;text-align: center;}#sk-container-id-2 label.sk-toggleable__label-arrow:before {content: \"▸\";float: left;margin-right: 0.25em;color: #696969;}#sk-container-id-2 label.sk-toggleable__label-arrow:hover:before {color: black;}#sk-container-id-2 div.sk-estimator:hover label.sk-toggleable__label-arrow:before {color: black;}#sk-container-id-2 div.sk-toggleable__content {max-height: 0;max-width: 0;overflow: hidden;text-align: left;background-color: #f0f8ff;}#sk-container-id-2 div.sk-toggleable__content pre {margin: 0.2em;color: black;border-radius: 0.25em;background-color: #f0f8ff;}#sk-container-id-2 input.sk-toggleable__control:checked~div.sk-toggleable__content {max-height: 200px;max-width: 100%;overflow: auto;}#sk-container-id-2 input.sk-toggleable__control:checked~label.sk-toggleable__label-arrow:before {content: \"▾\";}#sk-container-id-2 div.sk-estimator input.sk-toggleable__control:checked~label.sk-toggleable__label {background-color: #d4ebff;}#sk-container-id-2 div.sk-label input.sk-toggleable__control:checked~label.sk-toggleable__label {background-color: #d4ebff;}#sk-container-id-2 input.sk-hidden--visually {border: 0;clip: rect(1px 1px 1px 1px);clip: rect(1px, 1px, 1px, 1px);height: 1px;margin: -1px;overflow: hidden;padding: 0;position: absolute;width: 1px;}#sk-container-id-2 div.sk-estimator {font-family: monospace;background-color: #f0f8ff;border: 1px dotted black;border-radius: 0.25em;box-sizing: border-box;margin-bottom: 0.5em;}#sk-container-id-2 div.sk-estimator:hover {background-color: #d4ebff;}#sk-container-id-2 div.sk-parallel-item::after {content: \"\";width: 100%;border-bottom: 1px solid gray;flex-grow: 1;}#sk-container-id-2 div.sk-label:hover label.sk-toggleable__label {background-color: #d4ebff;}#sk-container-id-2 div.sk-serial::before {content: \"\";position: absolute;border-left: 1px solid gray;box-sizing: border-box;top: 0;bottom: 0;left: 50%;z-index: 0;}#sk-container-id-2 div.sk-serial {display: flex;flex-direction: column;align-items: center;background-color: white;padding-right: 0.2em;padding-left: 0.2em;position: relative;}#sk-container-id-2 div.sk-item {position: relative;z-index: 1;}#sk-container-id-2 div.sk-parallel {display: flex;align-items: stretch;justify-content: center;background-color: white;position: relative;}#sk-container-id-2 div.sk-item::before, #sk-container-id-2 div.sk-parallel-item::before {content: \"\";position: absolute;border-left: 1px solid gray;box-sizing: border-box;top: 0;bottom: 0;left: 50%;z-index: -1;}#sk-container-id-2 div.sk-parallel-item {display: flex;flex-direction: column;z-index: 1;position: relative;background-color: white;}#sk-container-id-2 div.sk-parallel-item:first-child::after {align-self: flex-end;width: 50%;}#sk-container-id-2 div.sk-parallel-item:last-child::after {align-self: flex-start;width: 50%;}#sk-container-id-2 div.sk-parallel-item:only-child::after {width: 0;}#sk-container-id-2 div.sk-dashed-wrapped {border: 1px dashed gray;margin: 0 0.4em 0.5em 0.4em;box-sizing: border-box;padding-bottom: 0.4em;background-color: white;}#sk-container-id-2 div.sk-label label {font-family: monospace;font-weight: bold;display: inline-block;line-height: 1.2em;}#sk-container-id-2 div.sk-label-container {text-align: center;}#sk-container-id-2 div.sk-container {/* jupyter's `normalize.less` sets `[hidden] { display: none; }` but bootstrap.min.css set `[hidden] { display: none !important; }` so we also need the `!important` here to be able to override the default hidden behavior on the sphinx rendered scikit-learn.org. See: https://github.com/scikit-learn/scikit-learn/issues/21755 */display: inline-block !important;position: relative;}#sk-container-id-2 div.sk-text-repr-fallback {display: none;}</style><div id=\"sk-container-id-2\" class=\"sk-top-container\"><div class=\"sk-text-repr-fallback\"><pre>VotingClassifier(estimators=[(&#x27;lr&#x27;,\n",
       "                              LogisticRegression(C=0.1, max_iter=10000,\n",
       "                                                 random_state=42,\n",
       "                                                 solver=&#x27;newton-cg&#x27;)),\n",
       "                             (&#x27;rf&#x27;,\n",
       "                              RandomForestClassifier(max_depth=5,\n",
       "                                                     random_state=42)),\n",
       "                             (&#x27;xgb&#x27;,\n",
       "                              XGBClassifier(base_score=None, booster=None,\n",
       "                                            callbacks=None,\n",
       "                                            colsample_bylevel=None,\n",
       "                                            colsample_bynode=None,\n",
       "                                            colsample_bytree=None,\n",
       "                                            early_stopping_rounds=None,\n",
       "                                            enable_categorical=F...\n",
       "                                            max_delta_step=None, max_depth=7,\n",
       "                                            max_leaves=None,\n",
       "                                            min_child_weight=None, missing=nan,\n",
       "                                            monotone_constraints=None,\n",
       "                                            n_estimators=200, n_jobs=None,\n",
       "                                            num_parallel_tree=None,\n",
       "                                            predictor=None, random_state=42, ...)),\n",
       "                             (&#x27;ada&#x27;,\n",
       "                              AdaBoostClassifier(learning_rate=0.5,\n",
       "                                                 n_estimators=200,\n",
       "                                                 random_state=42)),\n",
       "                             (&#x27;gradient&#x27;,\n",
       "                              GradientBoostingClassifier(learning_rate=0.5,\n",
       "                                                         max_depth=4,\n",
       "                                                         n_estimators=200,\n",
       "                                                         random_state=42))])</pre><b>In a Jupyter environment, please rerun this cell to show the HTML representation or trust the notebook. <br />On GitHub, the HTML representation is unable to render, please try loading this page with nbviewer.org.</b></div><div class=\"sk-container\" hidden><div class=\"sk-item sk-dashed-wrapped\"><div class=\"sk-label-container\"><div class=\"sk-label sk-toggleable\"><input class=\"sk-toggleable__control sk-hidden--visually\" id=\"sk-estimator-id-4\" type=\"checkbox\" ><label for=\"sk-estimator-id-4\" class=\"sk-toggleable__label sk-toggleable__label-arrow\">VotingClassifier</label><div class=\"sk-toggleable__content\"><pre>VotingClassifier(estimators=[(&#x27;lr&#x27;,\n",
       "                              LogisticRegression(C=0.1, max_iter=10000,\n",
       "                                                 random_state=42,\n",
       "                                                 solver=&#x27;newton-cg&#x27;)),\n",
       "                             (&#x27;rf&#x27;,\n",
       "                              RandomForestClassifier(max_depth=5,\n",
       "                                                     random_state=42)),\n",
       "                             (&#x27;xgb&#x27;,\n",
       "                              XGBClassifier(base_score=None, booster=None,\n",
       "                                            callbacks=None,\n",
       "                                            colsample_bylevel=None,\n",
       "                                            colsample_bynode=None,\n",
       "                                            colsample_bytree=None,\n",
       "                                            early_stopping_rounds=None,\n",
       "                                            enable_categorical=F...\n",
       "                                            max_delta_step=None, max_depth=7,\n",
       "                                            max_leaves=None,\n",
       "                                            min_child_weight=None, missing=nan,\n",
       "                                            monotone_constraints=None,\n",
       "                                            n_estimators=200, n_jobs=None,\n",
       "                                            num_parallel_tree=None,\n",
       "                                            predictor=None, random_state=42, ...)),\n",
       "                             (&#x27;ada&#x27;,\n",
       "                              AdaBoostClassifier(learning_rate=0.5,\n",
       "                                                 n_estimators=200,\n",
       "                                                 random_state=42)),\n",
       "                             (&#x27;gradient&#x27;,\n",
       "                              GradientBoostingClassifier(learning_rate=0.5,\n",
       "                                                         max_depth=4,\n",
       "                                                         n_estimators=200,\n",
       "                                                         random_state=42))])</pre></div></div></div><div class=\"sk-parallel\"><div class=\"sk-parallel-item\"><div class=\"sk-item\"><div class=\"sk-label-container\"><div class=\"sk-label sk-toggleable\"><label>lr</label></div></div><div class=\"sk-serial\"><div class=\"sk-item\"><div class=\"sk-estimator sk-toggleable\"><input class=\"sk-toggleable__control sk-hidden--visually\" id=\"sk-estimator-id-5\" type=\"checkbox\" ><label for=\"sk-estimator-id-5\" class=\"sk-toggleable__label sk-toggleable__label-arrow\">LogisticRegression</label><div class=\"sk-toggleable__content\"><pre>LogisticRegression(C=0.1, max_iter=10000, random_state=42, solver=&#x27;newton-cg&#x27;)</pre></div></div></div></div></div></div><div class=\"sk-parallel-item\"><div class=\"sk-item\"><div class=\"sk-label-container\"><div class=\"sk-label sk-toggleable\"><label>rf</label></div></div><div class=\"sk-serial\"><div class=\"sk-item\"><div class=\"sk-estimator sk-toggleable\"><input class=\"sk-toggleable__control sk-hidden--visually\" id=\"sk-estimator-id-6\" type=\"checkbox\" ><label for=\"sk-estimator-id-6\" class=\"sk-toggleable__label sk-toggleable__label-arrow\">RandomForestClassifier</label><div class=\"sk-toggleable__content\"><pre>RandomForestClassifier(max_depth=5, random_state=42)</pre></div></div></div></div></div></div><div class=\"sk-parallel-item\"><div class=\"sk-item\"><div class=\"sk-label-container\"><div class=\"sk-label sk-toggleable\"><label>xgb</label></div></div><div class=\"sk-serial\"><div class=\"sk-item\"><div class=\"sk-estimator sk-toggleable\"><input class=\"sk-toggleable__control sk-hidden--visually\" id=\"sk-estimator-id-7\" type=\"checkbox\" ><label for=\"sk-estimator-id-7\" class=\"sk-toggleable__label sk-toggleable__label-arrow\">XGBClassifier</label><div class=\"sk-toggleable__content\"><pre>XGBClassifier(base_score=None, booster=None, callbacks=None,\n",
       "              colsample_bylevel=None, colsample_bynode=None,\n",
       "              colsample_bytree=None, early_stopping_rounds=None,\n",
       "              enable_categorical=False, eval_metric=None, feature_types=None,\n",
       "              gamma=0.1, gpu_id=None, grow_policy=None, importance_type=None,\n",
       "              interaction_constraints=None, learning_rate=0.1, max_bin=None,\n",
       "              max_cat_threshold=None, max_cat_to_onehot=None,\n",
       "              max_delta_step=None, max_depth=7, max_leaves=None,\n",
       "              min_child_weight=None, missing=nan, monotone_constraints=None,\n",
       "              n_estimators=200, n_jobs=None, num_parallel_tree=None,\n",
       "              predictor=None, random_state=42, ...)</pre></div></div></div></div></div></div><div class=\"sk-parallel-item\"><div class=\"sk-item\"><div class=\"sk-label-container\"><div class=\"sk-label sk-toggleable\"><label>ada</label></div></div><div class=\"sk-serial\"><div class=\"sk-item\"><div class=\"sk-estimator sk-toggleable\"><input class=\"sk-toggleable__control sk-hidden--visually\" id=\"sk-estimator-id-8\" type=\"checkbox\" ><label for=\"sk-estimator-id-8\" class=\"sk-toggleable__label sk-toggleable__label-arrow\">AdaBoostClassifier</label><div class=\"sk-toggleable__content\"><pre>AdaBoostClassifier(learning_rate=0.5, n_estimators=200, random_state=42)</pre></div></div></div></div></div></div><div class=\"sk-parallel-item\"><div class=\"sk-item\"><div class=\"sk-label-container\"><div class=\"sk-label sk-toggleable\"><label>gradient</label></div></div><div class=\"sk-serial\"><div class=\"sk-item\"><div class=\"sk-estimator sk-toggleable\"><input class=\"sk-toggleable__control sk-hidden--visually\" id=\"sk-estimator-id-9\" type=\"checkbox\" ><label for=\"sk-estimator-id-9\" class=\"sk-toggleable__label sk-toggleable__label-arrow\">GradientBoostingClassifier</label><div class=\"sk-toggleable__content\"><pre>GradientBoostingClassifier(learning_rate=0.5, max_depth=4, n_estimators=200,\n",
       "                           random_state=42)</pre></div></div></div></div></div></div></div></div></div></div>"
      ],
      "text/plain": [
       "VotingClassifier(estimators=[('lr',\n",
       "                              LogisticRegression(C=0.1, max_iter=10000,\n",
       "                                                 random_state=42,\n",
       "                                                 solver='newton-cg')),\n",
       "                             ('rf',\n",
       "                              RandomForestClassifier(max_depth=5,\n",
       "                                                     random_state=42)),\n",
       "                             ('xgb',\n",
       "                              XGBClassifier(base_score=None, booster=None,\n",
       "                                            callbacks=None,\n",
       "                                            colsample_bylevel=None,\n",
       "                                            colsample_bynode=None,\n",
       "                                            colsample_bytree=None,\n",
       "                                            early_stopping_rounds=None,\n",
       "                                            enable_categorical=F...\n",
       "                                            max_delta_step=None, max_depth=7,\n",
       "                                            max_leaves=None,\n",
       "                                            min_child_weight=None, missing=nan,\n",
       "                                            monotone_constraints=None,\n",
       "                                            n_estimators=200, n_jobs=None,\n",
       "                                            num_parallel_tree=None,\n",
       "                                            predictor=None, random_state=42, ...)),\n",
       "                             ('ada',\n",
       "                              AdaBoostClassifier(learning_rate=0.5,\n",
       "                                                 n_estimators=200,\n",
       "                                                 random_state=42)),\n",
       "                             ('gradient',\n",
       "                              GradientBoostingClassifier(learning_rate=0.5,\n",
       "                                                         max_depth=4,\n",
       "                                                         n_estimators=200,\n",
       "                                                         random_state=42))])"
      ]
     },
     "execution_count": 34,
     "metadata": {},
     "output_type": "execute_result"
    }
   ],
   "source": [
    "avg = VotingClassifier(estimators=[\n",
    "    ('lr', best_logistic_regression),\n",
    "    ('rf', best_random_forest),\n",
    "    ('xgb', best_xgboost),\n",
    "    ('ada', best_ada_boost),\n",
    "    ('gradient', best_gradient)])\n",
    "avg.fit(X_train_vec, y_train)"
   ]
  },
  {
   "cell_type": "code",
   "execution_count": 35,
   "id": "5f69f095-4420-426c-8eb9-e668692b219b",
   "metadata": {},
   "outputs": [
    {
     "data": {
      "text/plain": [
       "0.7591689153297967"
      ]
     },
     "execution_count": 35,
     "metadata": {},
     "output_type": "execute_result"
    }
   ],
   "source": [
    "cross_val_voting = np.mean(cross_val_score(avg,X_train_vec,y_train,scoring='accuracy', cv=5))\n",
    "cross_val_voting"
   ]
  },
  {
   "cell_type": "markdown",
   "id": "2087a690-8d13-4553-bbf9-6eba5a8e1c52",
   "metadata": {},
   "source": [
    "### Weighted Averaging with the VotingClassifier"
   ]
  },
  {
   "cell_type": "code",
   "execution_count": 36,
   "id": "1ece65a3-b723-4878-be06-327fd1800156",
   "metadata": {},
   "outputs": [
    {
     "data": {
      "text/plain": [
       "0.7767648213584609"
      ]
     },
     "execution_count": 36,
     "metadata": {},
     "output_type": "execute_result"
    }
   ],
   "source": [
    "w_avg = VotingClassifier(estimators=[\n",
    "    ('lr', best_logistic_regression),\n",
    "    ('rf', best_random_forest),\n",
    "    ('xgb', best_xgboost),\n",
    "    ('ada', best_ada_boost),\n",
    "    ('gradient', best_gradient)],\n",
    "                        weights=[0.05, 0.05, 0.5, 0.2, 0.2])\n",
    "w_avg.fit(X_train_vec, y_train)\n",
    "\n",
    "cross_val_weighted_voting = np.mean(cross_val_score(w_avg,X_train_vec,y_train,scoring='accuracy', cv=5))\n",
    "cross_val_weighted_voting"
   ]
  },
  {
   "cell_type": "markdown",
   "id": "11592d28-bf5b-4dcf-8864-2e7fc1dbb767",
   "metadata": {},
   "source": [
    "- We assigned a weight of 0 to 'lr' and 'rf' because their scores are too low compared to the other estimators\n"
   ]
  },
  {
   "cell_type": "markdown",
   "id": "aebeeb40-13ec-429b-b01e-b72f188902af",
   "metadata": {},
   "source": [
    "### Stacking"
   ]
  },
  {
   "cell_type": "code",
   "execution_count": 37,
   "id": "5b2bc8dc-a2f2-4a83-9115-ce773ecaa2e3",
   "metadata": {},
   "outputs": [
    {
     "data": {
      "text/plain": [
       "0.7799449584691738"
      ]
     },
     "execution_count": 37,
     "metadata": {},
     "output_type": "execute_result"
    }
   ],
   "source": [
    "# Stacking Classifier\n",
    "estimators = [\n",
    "    ('bag',bagging),\n",
    "    ('xgb', best_xgboost),\n",
    "    ('gradient', best_gradient),\n",
    "    ('ada', best_ada_boost)\n",
    "    \n",
    "]\n",
    "# Stacking Classifier Cross-Validation\n",
    "sr = StackingClassifier(estimators).fit(X_train_vec,y_train)\n",
    "cross_val_stacking = np.mean(cross_val_score(sr,X_train_vec,y_train,scoring='accuracy', cv=5))\n",
    "cross_val_stacking"
   ]
  },
  {
   "cell_type": "markdown",
   "id": "3b308015-333f-4b7e-84bf-287e2ba4f241",
   "metadata": {},
   "source": [
    "### Shallow neural network"
   ]
  },
  {
   "cell_type": "code",
   "execution_count": 48,
   "id": "fa895d2e-6d63-4b0c-86a2-95ad95f899f9",
   "metadata": {},
   "outputs": [
    {
     "name": "stdout",
     "output_type": "stream",
     "text": [
      "Epoch 1/100\n",
      "708/708 [==============================] - 1s 1ms/step - loss: 0.5515 - accuracy: 0.7067 - val_loss: 0.5118 - val_accuracy: 0.7373\n",
      "Epoch 2/100\n",
      "708/708 [==============================] - 1s 1ms/step - loss: 0.4983 - accuracy: 0.7462 - val_loss: 0.4948 - val_accuracy: 0.7543\n",
      "Epoch 3/100\n",
      "708/708 [==============================] - 1s 1ms/step - loss: 0.4769 - accuracy: 0.7613 - val_loss: 0.4850 - val_accuracy: 0.7605\n",
      "Epoch 4/100\n",
      "708/708 [==============================] - 1s 1ms/step - loss: 0.4597 - accuracy: 0.7702 - val_loss: 0.4742 - val_accuracy: 0.7665\n",
      "Epoch 5/100\n",
      "708/708 [==============================] - 1s 1ms/step - loss: 0.4458 - accuracy: 0.7799 - val_loss: 0.4652 - val_accuracy: 0.7689\n",
      "Epoch 6/100\n",
      "708/708 [==============================] - 1s 1ms/step - loss: 0.4344 - accuracy: 0.7853 - val_loss: 0.4619 - val_accuracy: 0.7727\n",
      "Epoch 7/100\n",
      "708/708 [==============================] - 1s 1ms/step - loss: 0.4257 - accuracy: 0.7913 - val_loss: 0.4585 - val_accuracy: 0.7742\n",
      "Epoch 8/100\n",
      "708/708 [==============================] - 1s 1ms/step - loss: 0.4165 - accuracy: 0.7969 - val_loss: 0.4610 - val_accuracy: 0.7750\n",
      "Epoch 9/100\n",
      "708/708 [==============================] - 1s 1ms/step - loss: 0.4095 - accuracy: 0.8004 - val_loss: 0.4576 - val_accuracy: 0.7797\n",
      "Epoch 10/100\n",
      "708/708 [==============================] - 1s 1ms/step - loss: 0.4025 - accuracy: 0.8051 - val_loss: 0.4542 - val_accuracy: 0.7785\n",
      "Epoch 11/100\n",
      "708/708 [==============================] - 1s 1ms/step - loss: 0.3967 - accuracy: 0.8093 - val_loss: 0.4580 - val_accuracy: 0.7767\n",
      "Epoch 12/100\n",
      "708/708 [==============================] - 1s 1ms/step - loss: 0.3915 - accuracy: 0.8099 - val_loss: 0.4590 - val_accuracy: 0.7767\n",
      "Epoch 13/100\n",
      "708/708 [==============================] - 1s 1ms/step - loss: 0.3861 - accuracy: 0.8141 - val_loss: 0.4661 - val_accuracy: 0.7778\n",
      "Epoch 14/100\n",
      "708/708 [==============================] - 1s 1ms/step - loss: 0.3815 - accuracy: 0.8167 - val_loss: 0.4645 - val_accuracy: 0.7795\n",
      "Epoch 15/100\n",
      "708/708 [==============================] - 1s 1ms/step - loss: 0.3780 - accuracy: 0.8176 - val_loss: 0.4668 - val_accuracy: 0.7771\n",
      "Epoch 16/100\n",
      "708/708 [==============================] - 1s 1ms/step - loss: 0.3729 - accuracy: 0.8213 - val_loss: 0.4695 - val_accuracy: 0.7794\n",
      "Epoch 17/100\n",
      "708/708 [==============================] - 1s 1ms/step - loss: 0.3701 - accuracy: 0.8217 - val_loss: 0.4692 - val_accuracy: 0.7817\n",
      "Epoch 18/100\n",
      "708/708 [==============================] - 1s 1ms/step - loss: 0.3666 - accuracy: 0.8246 - val_loss: 0.4740 - val_accuracy: 0.7765\n",
      "Epoch 19/100\n",
      "708/708 [==============================] - 1s 1ms/step - loss: 0.3634 - accuracy: 0.8265 - val_loss: 0.4756 - val_accuracy: 0.7794\n",
      "Epoch 20/100\n",
      "708/708 [==============================] - 1s 1ms/step - loss: 0.3596 - accuracy: 0.8305 - val_loss: 0.4792 - val_accuracy: 0.7741\n",
      "Epoch 21/100\n",
      "708/708 [==============================] - 1s 1ms/step - loss: 0.3572 - accuracy: 0.8305 - val_loss: 0.4819 - val_accuracy: 0.7753\n",
      "Epoch 22/100\n",
      "708/708 [==============================] - 1s 1ms/step - loss: 0.3537 - accuracy: 0.8319 - val_loss: 0.4873 - val_accuracy: 0.7732\n",
      "Epoch 23/100\n",
      "708/708 [==============================] - 1s 1ms/step - loss: 0.3513 - accuracy: 0.8334 - val_loss: 0.4914 - val_accuracy: 0.7718\n",
      "Epoch 24/100\n",
      "708/708 [==============================] - 1s 1ms/step - loss: 0.3488 - accuracy: 0.8353 - val_loss: 0.4932 - val_accuracy: 0.7716\n",
      "Epoch 25/100\n",
      "708/708 [==============================] - 1s 1ms/step - loss: 0.3464 - accuracy: 0.8357 - val_loss: 0.4989 - val_accuracy: 0.7772\n",
      "Epoch 26/100\n",
      "708/708 [==============================] - 1s 1ms/step - loss: 0.3435 - accuracy: 0.8379 - val_loss: 0.4955 - val_accuracy: 0.7750\n",
      "Epoch 27/100\n",
      "708/708 [==============================] - 1s 1ms/step - loss: 0.3419 - accuracy: 0.8385 - val_loss: 0.5038 - val_accuracy: 0.7719\n",
      "Epoch 28/100\n",
      "708/708 [==============================] - 1s 1ms/step - loss: 0.3403 - accuracy: 0.8390 - val_loss: 0.5132 - val_accuracy: 0.7698\n",
      "Epoch 29/100\n",
      "708/708 [==============================] - 1s 1ms/step - loss: 0.3377 - accuracy: 0.8432 - val_loss: 0.5035 - val_accuracy: 0.7704\n",
      "Epoch 30/100\n",
      "708/708 [==============================] - 1s 1ms/step - loss: 0.3357 - accuracy: 0.8432 - val_loss: 0.5102 - val_accuracy: 0.7686\n",
      "Epoch 31/100\n",
      "708/708 [==============================] - 1s 1ms/step - loss: 0.3334 - accuracy: 0.8440 - val_loss: 0.5123 - val_accuracy: 0.7679\n",
      "Epoch 32/100\n",
      "708/708 [==============================] - 1s 1ms/step - loss: 0.3313 - accuracy: 0.8455 - val_loss: 0.5169 - val_accuracy: 0.7714\n",
      "Epoch 33/100\n",
      "708/708 [==============================] - 1s 1ms/step - loss: 0.3303 - accuracy: 0.8448 - val_loss: 0.5168 - val_accuracy: 0.7695\n",
      "Epoch 34/100\n",
      "708/708 [==============================] - 1s 1ms/step - loss: 0.3277 - accuracy: 0.8478 - val_loss: 0.5229 - val_accuracy: 0.7674\n",
      "Epoch 35/100\n",
      "708/708 [==============================] - 1s 1ms/step - loss: 0.3264 - accuracy: 0.8479 - val_loss: 0.5243 - val_accuracy: 0.7682\n",
      "Epoch 36/100\n",
      "708/708 [==============================] - 1s 1ms/step - loss: 0.3249 - accuracy: 0.8486 - val_loss: 0.5277 - val_accuracy: 0.7677\n",
      "Epoch 37/100\n",
      "708/708 [==============================] - 1s 1ms/step - loss: 0.3238 - accuracy: 0.8492 - val_loss: 0.5265 - val_accuracy: 0.7672\n",
      "Epoch 38/100\n",
      "708/708 [==============================] - 1s 1ms/step - loss: 0.3221 - accuracy: 0.8506 - val_loss: 0.5435 - val_accuracy: 0.7666\n",
      "Epoch 39/100\n",
      "708/708 [==============================] - 1s 1ms/step - loss: 0.3196 - accuracy: 0.8512 - val_loss: 0.5396 - val_accuracy: 0.7656\n",
      "Epoch 40/100\n",
      "708/708 [==============================] - 1s 1ms/step - loss: 0.3183 - accuracy: 0.8510 - val_loss: 0.5462 - val_accuracy: 0.7665\n",
      "Epoch 41/100\n",
      "708/708 [==============================] - 1s 1ms/step - loss: 0.3167 - accuracy: 0.8532 - val_loss: 0.5445 - val_accuracy: 0.7661\n",
      "Epoch 42/100\n",
      "708/708 [==============================] - 1s 1ms/step - loss: 0.3165 - accuracy: 0.8533 - val_loss: 0.5493 - val_accuracy: 0.7615\n",
      "Epoch 43/100\n",
      "708/708 [==============================] - 1s 1ms/step - loss: 0.3144 - accuracy: 0.8548 - val_loss: 0.5560 - val_accuracy: 0.7628\n",
      "Epoch 44/100\n",
      "708/708 [==============================] - 1s 1ms/step - loss: 0.3135 - accuracy: 0.8540 - val_loss: 0.5539 - val_accuracy: 0.7649\n",
      "Epoch 45/100\n",
      "708/708 [==============================] - 1s 1ms/step - loss: 0.3120 - accuracy: 0.8547 - val_loss: 0.5615 - val_accuracy: 0.7638\n",
      "Epoch 46/100\n",
      "708/708 [==============================] - 1s 1ms/step - loss: 0.3103 - accuracy: 0.8565 - val_loss: 0.5579 - val_accuracy: 0.7659\n",
      "Epoch 47/100\n",
      "708/708 [==============================] - 1s 1ms/step - loss: 0.3100 - accuracy: 0.8580 - val_loss: 0.5626 - val_accuracy: 0.7629\n",
      "Epoch 48/100\n",
      "708/708 [==============================] - 1s 1ms/step - loss: 0.3083 - accuracy: 0.8578 - val_loss: 0.5682 - val_accuracy: 0.7587\n",
      "Epoch 49/100\n",
      "708/708 [==============================] - 1s 1ms/step - loss: 0.3066 - accuracy: 0.8592 - val_loss: 0.5694 - val_accuracy: 0.7608\n",
      "Epoch 50/100\n",
      "708/708 [==============================] - 1s 1ms/step - loss: 0.3061 - accuracy: 0.8585 - val_loss: 0.5712 - val_accuracy: 0.7606\n",
      "Epoch 51/100\n",
      "708/708 [==============================] - 1s 1ms/step - loss: 0.3042 - accuracy: 0.8603 - val_loss: 0.5732 - val_accuracy: 0.7603\n",
      "Epoch 52/100\n",
      "708/708 [==============================] - 1s 1ms/step - loss: 0.3044 - accuracy: 0.8592 - val_loss: 0.5780 - val_accuracy: 0.7596\n",
      "Epoch 53/100\n",
      "708/708 [==============================] - 1s 1ms/step - loss: 0.3038 - accuracy: 0.8595 - val_loss: 0.5770 - val_accuracy: 0.7612\n",
      "Epoch 54/100\n",
      "708/708 [==============================] - 1s 1ms/step - loss: 0.3017 - accuracy: 0.8595 - val_loss: 0.5816 - val_accuracy: 0.7582\n",
      "Epoch 55/100\n",
      "708/708 [==============================] - 1s 1ms/step - loss: 0.3003 - accuracy: 0.8610 - val_loss: 0.5885 - val_accuracy: 0.7541\n",
      "Epoch 56/100\n",
      "708/708 [==============================] - 1s 1ms/step - loss: 0.2994 - accuracy: 0.8618 - val_loss: 0.5910 - val_accuracy: 0.7539\n",
      "Epoch 57/100\n",
      "708/708 [==============================] - 1s 1ms/step - loss: 0.2993 - accuracy: 0.8609 - val_loss: 0.5933 - val_accuracy: 0.7573\n",
      "Epoch 58/100\n",
      "708/708 [==============================] - 1s 1ms/step - loss: 0.2977 - accuracy: 0.8638 - val_loss: 0.5938 - val_accuracy: 0.7546\n",
      "Epoch 59/100\n",
      "708/708 [==============================] - 1s 1ms/step - loss: 0.2976 - accuracy: 0.8632 - val_loss: 0.5957 - val_accuracy: 0.7575\n",
      "Epoch 60/100\n",
      "708/708 [==============================] - 1s 1ms/step - loss: 0.2956 - accuracy: 0.8633 - val_loss: 0.5916 - val_accuracy: 0.7592\n",
      "Epoch 61/100\n",
      "708/708 [==============================] - 1s 1ms/step - loss: 0.2952 - accuracy: 0.8650 - val_loss: 0.6060 - val_accuracy: 0.7536\n",
      "Epoch 62/100\n",
      "708/708 [==============================] - 1s 1ms/step - loss: 0.2946 - accuracy: 0.8647 - val_loss: 0.6119 - val_accuracy: 0.7552\n",
      "Epoch 63/100\n",
      "708/708 [==============================] - 1s 1ms/step - loss: 0.2934 - accuracy: 0.8629 - val_loss: 0.6098 - val_accuracy: 0.7573\n",
      "Epoch 64/100\n",
      "708/708 [==============================] - 1s 1ms/step - loss: 0.2930 - accuracy: 0.8650 - val_loss: 0.6049 - val_accuracy: 0.7532\n",
      "Epoch 65/100\n",
      "708/708 [==============================] - 1s 1ms/step - loss: 0.2917 - accuracy: 0.8653 - val_loss: 0.6225 - val_accuracy: 0.7553\n",
      "Epoch 66/100\n",
      "708/708 [==============================] - 1s 1ms/step - loss: 0.2906 - accuracy: 0.8642 - val_loss: 0.6138 - val_accuracy: 0.7575\n",
      "Epoch 67/100\n",
      "708/708 [==============================] - 1s 1ms/step - loss: 0.2913 - accuracy: 0.8655 - val_loss: 0.6174 - val_accuracy: 0.7513\n",
      "Epoch 68/100\n",
      "708/708 [==============================] - 1s 1ms/step - loss: 0.2894 - accuracy: 0.8676 - val_loss: 0.6192 - val_accuracy: 0.7610\n",
      "Epoch 69/100\n",
      "708/708 [==============================] - 1s 1ms/step - loss: 0.2894 - accuracy: 0.8662 - val_loss: 0.6388 - val_accuracy: 0.7534\n",
      "Epoch 70/100\n",
      "708/708 [==============================] - 1s 1ms/step - loss: 0.2881 - accuracy: 0.8682 - val_loss: 0.6341 - val_accuracy: 0.7479\n",
      "Epoch 71/100\n",
      "708/708 [==============================] - 1s 1ms/step - loss: 0.2885 - accuracy: 0.8670 - val_loss: 0.6196 - val_accuracy: 0.7541\n",
      "Epoch 72/100\n",
      "708/708 [==============================] - 1s 1ms/step - loss: 0.2871 - accuracy: 0.8681 - val_loss: 0.6302 - val_accuracy: 0.7552\n",
      "Epoch 73/100\n",
      "708/708 [==============================] - 1s 1ms/step - loss: 0.2874 - accuracy: 0.8675 - val_loss: 0.6315 - val_accuracy: 0.7569\n",
      "Epoch 74/100\n",
      "708/708 [==============================] - 1s 1ms/step - loss: 0.2856 - accuracy: 0.8685 - val_loss: 0.6426 - val_accuracy: 0.7536\n",
      "Epoch 75/100\n",
      "708/708 [==============================] - 1s 1ms/step - loss: 0.2865 - accuracy: 0.8675 - val_loss: 0.6325 - val_accuracy: 0.7541\n",
      "Epoch 76/100\n",
      "708/708 [==============================] - 1s 1ms/step - loss: 0.2850 - accuracy: 0.8686 - val_loss: 0.6485 - val_accuracy: 0.7538\n",
      "Epoch 77/100\n",
      "708/708 [==============================] - 1s 1ms/step - loss: 0.2839 - accuracy: 0.8687 - val_loss: 0.6375 - val_accuracy: 0.7508\n",
      "Epoch 78/100\n",
      "708/708 [==============================] - 1s 2ms/step - loss: 0.2836 - accuracy: 0.8698 - val_loss: 0.6443 - val_accuracy: 0.7541\n",
      "Epoch 79/100\n",
      "708/708 [==============================] - 1s 2ms/step - loss: 0.2827 - accuracy: 0.8695 - val_loss: 0.6474 - val_accuracy: 0.7499\n",
      "Epoch 80/100\n",
      "708/708 [==============================] - 1s 1ms/step - loss: 0.2824 - accuracy: 0.8693 - val_loss: 0.6509 - val_accuracy: 0.7553\n",
      "Epoch 81/100\n",
      "708/708 [==============================] - 1s 1ms/step - loss: 0.2819 - accuracy: 0.8701 - val_loss: 0.6476 - val_accuracy: 0.7532\n",
      "Epoch 82/100\n",
      "708/708 [==============================] - 1s 2ms/step - loss: 0.2810 - accuracy: 0.8713 - val_loss: 0.6486 - val_accuracy: 0.7495\n",
      "Epoch 83/100\n",
      "708/708 [==============================] - 1s 1ms/step - loss: 0.2806 - accuracy: 0.8711 - val_loss: 0.6533 - val_accuracy: 0.7522\n",
      "Epoch 84/100\n",
      "708/708 [==============================] - 2s 2ms/step - loss: 0.2794 - accuracy: 0.8709 - val_loss: 0.6568 - val_accuracy: 0.7499\n",
      "Epoch 85/100\n",
      "708/708 [==============================] - 2s 3ms/step - loss: 0.2790 - accuracy: 0.8728 - val_loss: 0.6569 - val_accuracy: 0.7481\n",
      "Epoch 86/100\n",
      "708/708 [==============================] - 1s 2ms/step - loss: 0.2794 - accuracy: 0.8718 - val_loss: 0.6659 - val_accuracy: 0.7493\n",
      "Epoch 87/100\n",
      "708/708 [==============================] - 1s 2ms/step - loss: 0.2781 - accuracy: 0.8726 - val_loss: 0.6625 - val_accuracy: 0.7511\n",
      "Epoch 88/100\n",
      "708/708 [==============================] - 1s 1ms/step - loss: 0.2766 - accuracy: 0.8731 - val_loss: 0.6663 - val_accuracy: 0.7515\n",
      "Epoch 89/100\n",
      "708/708 [==============================] - 1s 1ms/step - loss: 0.2771 - accuracy: 0.8726 - val_loss: 0.6637 - val_accuracy: 0.7520\n",
      "Epoch 90/100\n",
      "708/708 [==============================] - 1s 2ms/step - loss: 0.2767 - accuracy: 0.8730 - val_loss: 0.6679 - val_accuracy: 0.7490\n",
      "Epoch 91/100\n",
      "708/708 [==============================] - 1s 2ms/step - loss: 0.2767 - accuracy: 0.8731 - val_loss: 0.6749 - val_accuracy: 0.7538\n",
      "Epoch 92/100\n",
      "708/708 [==============================] - 1s 2ms/step - loss: 0.2743 - accuracy: 0.8736 - val_loss: 0.6842 - val_accuracy: 0.7523\n",
      "Epoch 93/100\n",
      "708/708 [==============================] - 1s 2ms/step - loss: 0.2750 - accuracy: 0.8747 - val_loss: 0.6921 - val_accuracy: 0.7469\n",
      "Epoch 94/100\n",
      "708/708 [==============================] - 1s 2ms/step - loss: 0.2738 - accuracy: 0.8754 - val_loss: 0.6764 - val_accuracy: 0.7476\n",
      "Epoch 95/100\n",
      "708/708 [==============================] - 1s 2ms/step - loss: 0.2733 - accuracy: 0.8750 - val_loss: 0.6756 - val_accuracy: 0.7483\n",
      "Epoch 96/100\n",
      "708/708 [==============================] - 1s 2ms/step - loss: 0.2726 - accuracy: 0.8751 - val_loss: 0.6879 - val_accuracy: 0.7497\n",
      "Epoch 97/100\n",
      "708/708 [==============================] - 1s 2ms/step - loss: 0.2721 - accuracy: 0.8753 - val_loss: 0.7034 - val_accuracy: 0.7444\n",
      "Epoch 98/100\n",
      "708/708 [==============================] - 1s 2ms/step - loss: 0.2731 - accuracy: 0.8744 - val_loss: 0.6895 - val_accuracy: 0.7479\n",
      "Epoch 99/100\n",
      "708/708 [==============================] - 1s 2ms/step - loss: 0.2713 - accuracy: 0.8762 - val_loss: 0.6776 - val_accuracy: 0.7497\n",
      "Epoch 100/100\n",
      "708/708 [==============================] - 1s 1ms/step - loss: 0.2707 - accuracy: 0.8766 - val_loss: 0.6952 - val_accuracy: 0.7446\n"
     ]
    }
   ],
   "source": [
    "baseline_nn = Sequential()\n",
    "baseline_nn.add(Dense(50, input_dim=91, activation='relu'))\n",
    "baseline_nn.add(Dense(units=1, activation='sigmoid'))\n",
    "baseline_nn.compile(loss = 'binary_crossentropy', optimizer = 'adam', metrics = 'accuracy')\n",
    "history = baseline_nn.fit(X_train_vec.toarray(), y_train, epochs = 100, batch_size = 32, validation_split = 0.2)"
   ]
  },
  {
   "cell_type": "markdown",
   "id": "8c9df2ea-e3d7-445a-8aa4-463323e4bba1",
   "metadata": {},
   "source": [
    "With an accuracy of 0.877 and a validation accuracy of 0.745 we can safely say that is overfitting, now, let's try to improve our model"
   ]
  },
  {
   "cell_type": "code",
   "execution_count": 49,
   "id": "d0802f8e-e56e-40e6-9eba-bc99f57d0ffd",
   "metadata": {},
   "outputs": [
    {
     "name": "stdout",
     "output_type": "stream",
     "text": [
      "Model: \"sequential_3\"\n",
      "_________________________________________________________________\n",
      " Layer (type)                Output Shape              Param #   \n",
      "=================================================================\n",
      " dense_9 (Dense)             (None, 50)                4600      \n",
      "                                                                 \n",
      " dense_10 (Dense)            (None, 1)                 51        \n",
      "                                                                 \n",
      "=================================================================\n",
      "Total params: 4,651\n",
      "Trainable params: 4,651\n",
      "Non-trainable params: 0\n",
      "_________________________________________________________________\n"
     ]
    }
   ],
   "source": [
    "baseline_nn.summary()"
   ]
  },
  {
   "cell_type": "code",
   "execution_count": 52,
   "id": "f1d7f616-aed2-4384-956b-ae8cbda47d5d",
   "metadata": {},
   "outputs": [
    {
     "name": "stdout",
     "output_type": "stream",
     "text": [
      "885/885 [==============================] - 1s 707us/step\n"
     ]
    }
   ],
   "source": [
    "y_hat_proba = baseline_nn.predict(X_train_vec.toarray())"
   ]
  },
  {
   "cell_type": "code",
   "execution_count": 54,
   "id": "daf6ba63-705c-4610-9c24-c9f07e1282d6",
   "metadata": {},
   "outputs": [
    {
     "data": {
      "text/plain": [
       "0.8552045791816832"
      ]
     },
     "execution_count": 54,
     "metadata": {},
     "output_type": "execute_result"
    }
   ],
   "source": [
    "y_hat_train = (y_hat_proba > 0.5).astype('int')\n",
    "accuracy_score(y_train, y_hat_train)"
   ]
  },
  {
   "cell_type": "code",
   "execution_count": 55,
   "id": "57c72314-456b-40c9-b079-a007d104448b",
   "metadata": {},
   "outputs": [
    {
     "name": "stdout",
     "output_type": "stream",
     "text": [
      "885/885 [==============================] - 1s 883us/step - loss: 0.3466 - accuracy: 0.8552\n",
      "0.8552045822143555\n"
     ]
    }
   ],
   "source": [
    "_, train_accuracy = baseline_nn.evaluate(X_train_vec.toarray(), y_train, verbose=1)\n",
    "print(train_accuracy)"
   ]
  },
  {
   "cell_type": "code",
   "execution_count": 56,
   "id": "bcdb9784-592f-4d6d-b6fe-6d48c0b7e986",
   "metadata": {},
   "outputs": [
    {
     "name": "stdout",
     "output_type": "stream",
     "text": [
      "380/380 [==============================] - 0s 864us/step - loss: 0.6711 - accuracy: 0.7531\n",
      "0.7530915141105652\n"
     ]
    }
   ],
   "source": [
    "_, test_accuracy = baseline_nn.evaluate(X_test_vec.toarray(), y_test, verbose=1)\n",
    "print(test_accuracy)"
   ]
  },
  {
   "cell_type": "code",
   "execution_count": 9,
   "id": "0eb96f7d-7799-41eb-bdb1-00b42458cdda",
   "metadata": {},
   "outputs": [
    {
     "name": "stdout",
     "output_type": "stream",
     "text": [
      "Epoch 1/200\n",
      "567/567 [==============================] - 2s 2ms/step - loss: 0.5883 - accuracy: 0.6698 - val_loss: 0.5110 - val_accuracy: 0.7412\n",
      "Epoch 2/200\n",
      "567/567 [==============================] - 1s 2ms/step - loss: 0.5222 - accuracy: 0.7346 - val_loss: 0.4909 - val_accuracy: 0.7532\n",
      "Epoch 3/200\n",
      "567/567 [==============================] - 1s 2ms/step - loss: 0.5034 - accuracy: 0.7459 - val_loss: 0.4870 - val_accuracy: 0.7576\n",
      "Epoch 4/200\n",
      "567/567 [==============================] - 1s 2ms/step - loss: 0.4902 - accuracy: 0.7554 - val_loss: 0.4720 - val_accuracy: 0.7666\n",
      "Epoch 5/200\n",
      "567/567 [==============================] - 1s 2ms/step - loss: 0.4803 - accuracy: 0.7591 - val_loss: 0.4760 - val_accuracy: 0.7601\n",
      "Epoch 6/200\n",
      "567/567 [==============================] - 1s 2ms/step - loss: 0.4703 - accuracy: 0.7673 - val_loss: 0.4609 - val_accuracy: 0.7712\n",
      "Epoch 7/200\n",
      "567/567 [==============================] - 1s 2ms/step - loss: 0.4630 - accuracy: 0.7695 - val_loss: 0.4605 - val_accuracy: 0.7695\n",
      "Epoch 8/200\n",
      "567/567 [==============================] - 1s 2ms/step - loss: 0.4567 - accuracy: 0.7766 - val_loss: 0.4568 - val_accuracy: 0.7737\n",
      "Epoch 9/200\n",
      "567/567 [==============================] - 1s 2ms/step - loss: 0.4528 - accuracy: 0.7773 - val_loss: 0.4570 - val_accuracy: 0.7750\n",
      "Epoch 10/200\n",
      "567/567 [==============================] - 1s 2ms/step - loss: 0.4476 - accuracy: 0.7806 - val_loss: 0.4532 - val_accuracy: 0.7811\n",
      "Epoch 11/200\n",
      "567/567 [==============================] - 1s 2ms/step - loss: 0.4386 - accuracy: 0.7883 - val_loss: 0.4508 - val_accuracy: 0.7806\n",
      "Epoch 12/200\n",
      "567/567 [==============================] - 1s 2ms/step - loss: 0.4375 - accuracy: 0.7872 - val_loss: 0.4490 - val_accuracy: 0.7792\n",
      "Epoch 13/200\n",
      "567/567 [==============================] - 1s 2ms/step - loss: 0.4312 - accuracy: 0.7883 - val_loss: 0.4484 - val_accuracy: 0.7825\n",
      "Epoch 14/200\n",
      "567/567 [==============================] - 1s 2ms/step - loss: 0.4319 - accuracy: 0.7898 - val_loss: 0.4475 - val_accuracy: 0.7801\n",
      "Epoch 15/200\n",
      "567/567 [==============================] - 1s 2ms/step - loss: 0.4283 - accuracy: 0.7937 - val_loss: 0.4511 - val_accuracy: 0.7797\n",
      "Epoch 16/200\n",
      "567/567 [==============================] - 1s 2ms/step - loss: 0.4258 - accuracy: 0.7944 - val_loss: 0.4490 - val_accuracy: 0.7822\n",
      "Epoch 17/200\n",
      "567/567 [==============================] - 1s 2ms/step - loss: 0.4239 - accuracy: 0.7943 - val_loss: 0.4517 - val_accuracy: 0.7727\n",
      "Epoch 18/200\n",
      "567/567 [==============================] - 1s 2ms/step - loss: 0.4161 - accuracy: 0.7966 - val_loss: 0.4467 - val_accuracy: 0.7765\n",
      "Epoch 19/200\n",
      "567/567 [==============================] - 1s 2ms/step - loss: 0.4162 - accuracy: 0.7985 - val_loss: 0.4479 - val_accuracy: 0.7820\n",
      "Epoch 20/200\n",
      "567/567 [==============================] - 1s 2ms/step - loss: 0.4121 - accuracy: 0.7997 - val_loss: 0.4493 - val_accuracy: 0.7792\n",
      "Epoch 21/200\n",
      "567/567 [==============================] - 1s 2ms/step - loss: 0.4127 - accuracy: 0.8003 - val_loss: 0.4433 - val_accuracy: 0.7847\n",
      "Epoch 22/200\n",
      "567/567 [==============================] - 1s 2ms/step - loss: 0.4097 - accuracy: 0.8031 - val_loss: 0.4459 - val_accuracy: 0.7831\n",
      "Epoch 23/200\n",
      "567/567 [==============================] - 1s 2ms/step - loss: 0.4077 - accuracy: 0.8046 - val_loss: 0.4443 - val_accuracy: 0.7831\n",
      "Epoch 24/200\n",
      "567/567 [==============================] - 1s 2ms/step - loss: 0.4057 - accuracy: 0.8045 - val_loss: 0.4429 - val_accuracy: 0.7871\n",
      "Epoch 25/200\n",
      "567/567 [==============================] - 1s 2ms/step - loss: 0.4016 - accuracy: 0.8057 - val_loss: 0.4462 - val_accuracy: 0.7831\n",
      "Epoch 26/200\n",
      "567/567 [==============================] - 1s 2ms/step - loss: 0.4022 - accuracy: 0.8048 - val_loss: 0.4450 - val_accuracy: 0.7850\n",
      "Epoch 27/200\n",
      "567/567 [==============================] - 1s 2ms/step - loss: 0.4003 - accuracy: 0.8076 - val_loss: 0.4457 - val_accuracy: 0.7841\n",
      "Epoch 28/200\n",
      "567/567 [==============================] - 1s 2ms/step - loss: 0.3997 - accuracy: 0.8096 - val_loss: 0.4423 - val_accuracy: 0.7811\n",
      "Epoch 29/200\n",
      "567/567 [==============================] - 1s 2ms/step - loss: 0.3952 - accuracy: 0.8114 - val_loss: 0.4458 - val_accuracy: 0.7788\n",
      "Epoch 30/200\n",
      "567/567 [==============================] - 1s 2ms/step - loss: 0.3962 - accuracy: 0.8099 - val_loss: 0.4465 - val_accuracy: 0.7817\n",
      "Epoch 31/200\n",
      "567/567 [==============================] - 1s 2ms/step - loss: 0.3958 - accuracy: 0.8125 - val_loss: 0.4438 - val_accuracy: 0.7840\n",
      "Epoch 32/200\n",
      "567/567 [==============================] - 1s 2ms/step - loss: 0.3886 - accuracy: 0.8128 - val_loss: 0.4484 - val_accuracy: 0.7817\n",
      "Epoch 33/200\n",
      "567/567 [==============================] - 1s 2ms/step - loss: 0.3935 - accuracy: 0.8122 - val_loss: 0.4511 - val_accuracy: 0.7829\n",
      "Epoch 34/200\n",
      "567/567 [==============================] - 1s 2ms/step - loss: 0.3910 - accuracy: 0.8118 - val_loss: 0.4430 - val_accuracy: 0.7845\n",
      "Epoch 35/200\n",
      "567/567 [==============================] - 1s 2ms/step - loss: 0.3850 - accuracy: 0.8186 - val_loss: 0.4475 - val_accuracy: 0.7788\n",
      "Epoch 36/200\n",
      "567/567 [==============================] - 1s 2ms/step - loss: 0.3905 - accuracy: 0.8132 - val_loss: 0.4477 - val_accuracy: 0.7795\n",
      "Epoch 37/200\n",
      "567/567 [==============================] - 1s 2ms/step - loss: 0.3871 - accuracy: 0.8170 - val_loss: 0.4521 - val_accuracy: 0.7753\n",
      "Epoch 38/200\n",
      "567/567 [==============================] - 1s 2ms/step - loss: 0.3832 - accuracy: 0.8182 - val_loss: 0.4461 - val_accuracy: 0.7827\n",
      "Epoch 39/200\n",
      "567/567 [==============================] - 1s 2ms/step - loss: 0.3872 - accuracy: 0.8175 - val_loss: 0.4463 - val_accuracy: 0.7817\n",
      "Epoch 40/200\n",
      "567/567 [==============================] - 1s 2ms/step - loss: 0.3792 - accuracy: 0.8204 - val_loss: 0.4459 - val_accuracy: 0.7841\n",
      "Epoch 41/200\n",
      "567/567 [==============================] - 1s 2ms/step - loss: 0.3809 - accuracy: 0.8213 - val_loss: 0.4475 - val_accuracy: 0.7833\n",
      "Epoch 42/200\n",
      "567/567 [==============================] - 1s 2ms/step - loss: 0.3807 - accuracy: 0.8197 - val_loss: 0.4473 - val_accuracy: 0.7841\n",
      "Epoch 43/200\n",
      "567/567 [==============================] - 1s 2ms/step - loss: 0.3769 - accuracy: 0.8218 - val_loss: 0.4534 - val_accuracy: 0.7838\n",
      "Epoch 44/200\n",
      "567/567 [==============================] - 1s 2ms/step - loss: 0.3776 - accuracy: 0.8180 - val_loss: 0.4477 - val_accuracy: 0.7825\n"
     ]
    }
   ],
   "source": [
    "reg = l2(3e-10) \n",
    "model_complex = Sequential()\n",
    "model_complex.add(Dense(110, input_dim=91, activation='relu',kernel_regularizer=reg))\n",
    "model_complex.add(Dropout(0.5))\n",
    "model_complex.add(Dense(80, activation='softmax',kernel_regularizer=reg))\n",
    "model_complex.add(Dropout(0.2))\n",
    "model_complex.add(Dense(50, activation='tanh',kernel_regularizer=reg))\n",
    "model_complex.add(Dropout(0.2))\n",
    "model_complex.add(Dense(70, activation='relu',kernel_regularizer=reg))\n",
    "model_complex.add(Dense(70, activation='tanh',kernel_regularizer=reg))\n",
    "model_complex.add(Dense(units=1, activation='sigmoid'))\n",
    "model_complex.compile(loss = 'binary_crossentropy', optimizer = 'adam', metrics = ['accuracy'])\n",
    "trainCallback = EarlyStopping(monitor='val_accuracy', patience = 20,restore_best_weights=True)\n",
    "history = model_complex.fit(X_train_vec.toarray(), y_train, epochs = 200, batch_size = 40, validation_split = 0.2,callbacks=[trainCallback])"
   ]
  },
  {
   "cell_type": "code",
   "execution_count": 60,
   "id": "d7d50018-dd55-4d84-a6de-c5d5fd1da18c",
   "metadata": {},
   "outputs": [
    {
     "name": "stdout",
     "output_type": "stream",
     "text": [
      "Model: \"sequential_4\"\n",
      "_________________________________________________________________\n",
      " Layer (type)                Output Shape              Param #   \n",
      "=================================================================\n",
      " dense_11 (Dense)            (None, 110)               10120     \n",
      "                                                                 \n",
      " dropout_2 (Dropout)         (None, 110)               0         \n",
      "                                                                 \n",
      " dense_12 (Dense)            (None, 80)                8880      \n",
      "                                                                 \n",
      " dropout_3 (Dropout)         (None, 80)                0         \n",
      "                                                                 \n",
      " dense_13 (Dense)            (None, 50)                4050      \n",
      "                                                                 \n",
      " dropout_4 (Dropout)         (None, 50)                0         \n",
      "                                                                 \n",
      " dense_14 (Dense)            (None, 70)                3570      \n",
      "                                                                 \n",
      " dense_15 (Dense)            (None, 70)                4970      \n",
      "                                                                 \n",
      " dense_16 (Dense)            (None, 1)                 71        \n",
      "                                                                 \n",
      "=================================================================\n",
      "Total params: 31,661\n",
      "Trainable params: 31,661\n",
      "Non-trainable params: 0\n",
      "_________________________________________________________________\n"
     ]
    }
   ],
   "source": [
    "model_complex.summary()"
   ]
  },
  {
   "cell_type": "code",
   "execution_count": 58,
   "id": "1131eb89-cb76-4826-b98e-e034c3d7b13f",
   "metadata": {},
   "outputs": [
    {
     "name": "stdout",
     "output_type": "stream",
     "text": [
      "885/885 [==============================] - 1s 981us/step - loss: 0.3773 - accuracy: 0.8272\n",
      "0.8272206783294678\n"
     ]
    }
   ],
   "source": [
    "_, train_accuracy = model_complex.evaluate(X_train_vec.toarray(), y_train, verbose=1)\n",
    "print(train_accuracy)"
   ]
  },
  {
   "cell_type": "code",
   "execution_count": 59,
   "id": "4e6e35c7-78a5-41f3-b2c2-56e25cb7f0ac",
   "metadata": {},
   "outputs": [
    {
     "name": "stdout",
     "output_type": "stream",
     "text": [
      "380/380 [==============================] - 0s 980us/step - loss: 0.4493 - accuracy: 0.7809\n",
      "0.7808738946914673\n"
     ]
    }
   ],
   "source": [
    "_, test_accuracy = model_complex.evaluate(X_test_vec.toarray(), y_test, verbose=1)\n",
    "print(test_accuracy)"
   ]
  },
  {
   "cell_type": "code",
   "execution_count": 10,
   "id": "1c9f5d16-2670-42b8-bf2e-9bde3d8afaf7",
   "metadata": {},
   "outputs": [
    {
     "data": {
      "image/png": "[encoded data removed]",
      "text/plain": [
       "<IPython.core.display.Image object>"
      ]
     },
     "execution_count": 10,
     "metadata": {},
     "output_type": "execute_result"
    }
   ],
   "source": [
    "plot_model(model_complex, show_shapes=True, show_layer_names=True)"
   ]
  },
  {
   "cell_type": "code",
   "execution_count": null,
   "id": "713d9740-1473-4210-9380-d73c3e838b46",
   "metadata": {},
   "outputs": [],
   "source": []
  },
  {
   "cell_type": "code",
   "execution_count": null,
   "id": "98e393e1-6398-48e1-9c7e-8dece6a7551e",
   "metadata": {},
   "outputs": [],
   "source": []
  },
  {
   "cell_type": "code",
   "execution_count": null,
   "id": "c18b2904-0204-4541-9fd6-3a0a58e63241",
   "metadata": {},
   "outputs": [],
   "source": []
  },
  {
   "cell_type": "code",
   "execution_count": null,
   "id": "3a9aee24-1561-4116-982d-aa31bcaf6014",
   "metadata": {},
   "outputs": [],
   "source": []
  },
  {
   "cell_type": "code",
   "execution_count": null,
   "id": "a8fd741c-9080-4860-935c-571289f70c59",
   "metadata": {},
   "outputs": [],
   "source": []
  },
  {
   "cell_type": "code",
   "execution_count": null,
   "id": "34bd0f7a-cfba-4c74-918d-2dd43b4db634",
   "metadata": {},
   "outputs": [],
   "source": []
  },
  {
   "cell_type": "code",
   "execution_count": null,
   "id": "8a807886-6e0f-47cf-ab44-d4da5ee1ad64",
   "metadata": {},
   "outputs": [],
   "source": []
  },
  {
   "cell_type": "code",
   "execution_count": null,
   "id": "34eaf333-cb88-4426-af87-facee8c56e18",
   "metadata": {},
   "outputs": [],
   "source": []
  },
  {
   "cell_type": "code",
   "execution_count": null,
   "id": "a45a6c45-1442-40c4-ad12-2c15c173102f",
   "metadata": {},
   "outputs": [],
   "source": []
  },
  {
   "cell_type": "code",
   "execution_count": null,
   "id": "2c0e95c0-25b5-4236-bec5-b26b2c5c7d5c",
   "metadata": {},
   "outputs": [],
   "source": []
  },
  {
   "cell_type": "code",
   "execution_count": null,
   "id": "d89e73a9-4c0c-41d8-9aee-5adf00579472",
   "metadata": {},
   "outputs": [],
   "source": []
  }
 ],
 "metadata": {
  "kernelspec": {
   "display_name": "new_env",
   "language": "python",
   "name": "new_env"
  },
  "language_info": {
   "codemirror_mode": {
    "name": "ipython",
    "version": 3
   },
   "file_extension": ".py",
   "mimetype": "text/x-python",
   "name": "python",
   "nbconvert_exporter": "python",
   "pygments_lexer": "ipython3",
   "version": "3.9.18"
  }
 },
 "nbformat": 4,
 "nbformat_minor": 5
}
