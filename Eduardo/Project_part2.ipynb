{
 "cells": [
  {
   "cell_type": "code",
   "execution_count": null,
   "id": "42f6dcb2-74ba-458c-963e-e13c9ac61ecb",
   "metadata": {},
   "outputs": [],
   "source": [
    "import os\n",
    "import sys\n",
    "import pandas as pd\n",
    "import nltk\n",
    "from nltk.probability import FreqDist\n",
    "from nltk.corpus import stopwords\n",
    "from nltk.tokenize import regexp_tokenize, word_tokenize, RegexpTokenizer\n",
    "import matplotlib.pyplot as plt\n",
    "import string\n",
    "import re\n",
    "import numpy as np\n",
    "import itertools\n",
    "from nltk import WordNetLemmatizer\n",
    "from nltk.corpus import wordnet\n",
    "from nltk import pos_tag\n",
    "from sklearn.feature_extraction.text import CountVectorizer, TfidfVectorizer\n",
    "from sklearn.linear_model import LogisticRegression\n",
    "from sklearn.pipeline import Pipeline\n",
    "from sklearn.ensemble import RandomForestClassifier, GradientBoostingClassifier, AdaBoostClassifier\n",
    "from sklearn.preprocessing import StandardScaler, OneHotEncoder, FunctionTransformer\n",
    "from sklearn.model_selection import train_test_split, GridSearchCV, cross_val_score\n",
    "from sklearn.metrics import ConfusionMatrixDisplay, recall_score,\\\n",
    "    accuracy_score, precision_score, f1_score, classification_report\n",
    "import warnings\n",
    "import xgboost\n",
    "\n",
    "warnings.filterwarnings('ignore')"
   ]
  },
  {
   "cell_type": "code",
   "execution_count": null,
   "id": "f4dfa79d-da1b-4ef2-89d4-d0b5d241b19e",
   "metadata": {},
   "outputs": [],
   "source": [
    "df = pd.read_csv('fake reviews dataset.csv')\n",
    "df['target'] = np.where(df['label'] == 'CG', 1, 0)"
   ]
  },
  {
   "cell_type": "code",
   "execution_count": null,
   "id": "ab948a31-baa4-41d9-9227-8800cb8c3cf2",
   "metadata": {},
   "outputs": [],
   "source": [
    "#tokenizing the text data in the 'text_' column of df\n",
    "def tokenizer(x):\n",
    "    \n",
    "    corpus = [word_tokenize(doc) for doc in x]\n",
    "\n",
    "# getting common stop words in english that we'll remove during tokenization/text normalization\n",
    "    stop_words = stopwords.words('english')\n",
    "    corpus_no_stopwords = []\n",
    "    for words in corpus:\n",
    "        docs = [x.lower() for x in words if ((x.isalpha()) & (x not in stop_words))]\n",
    "        corpus_no_stopwords.append(docs)\n",
    "    return corpus_no_stopwords\n",
    "\n",
    "\n",
    "#tokenizing the text data in the 'text_' column of df\n",
    "def tokenizer(x):\n",
    "    \n",
    "    corpus = [word_tokenize(doc) for doc in x]\n",
    "\n",
    "# getting common stop words in english that we'll remove during tokenization/text normalization\n",
    "    stop_words = stopwords.words('english')\n",
    "    corpus_no_stopwords = []\n",
    "    for words in corpus:\n",
    "        docs = [x.lower() for x in words if ((x.isalpha()) & (x not in stop_words))]\n",
    "        corpus_no_stopwords.append(docs)\n",
    "    return corpus_no_stopwords"
   ]
  },
  {
   "cell_type": "code",
   "execution_count": null,
   "id": "84300a0c-9481-4da8-aad2-6c8af17eb963",
   "metadata": {},
   "outputs": [],
   "source": [
    "X_train, X_test, y_train,y_test = train_test_split(df['text_'],df['target'], test_size=0.3,random_state=42)"
   ]
  },
  {
   "cell_type": "code",
   "execution_count": null,
   "id": "3ee98a73-de2f-4a20-8f8e-7161c0f429b0",
   "metadata": {},
   "outputs": [],
   "source": [
    "X_train_preprocessed = lemmatizer(tokenizer(X_train))\n",
    "X_test_preprocessed = lemmatizer(tokenizer(X_test))"
   ]
  },
  {
   "cell_type": "markdown",
   "id": "f7fb08d9-5bea-41e8-81ca-abacd631fef8",
   "metadata": {},
   "source": [
    "## Here we appply count vectorizer"
   ]
  },
  {
   "cell_type": "code",
   "execution_count": null,
   "id": "45cbb8ea-3570-4a94-8ef6-40ba3acb581a",
   "metadata": {},
   "outputs": [],
   "source": [
    "random_forest_hp = RandomForestClassifier()"
   ]
  },
  {
   "cell_type": "code",
   "execution_count": null,
   "id": "4e5a2e48-4262-44f8-b24f-4b7cbd9af2fa",
   "metadata": {},
   "outputs": [],
   "source": [
    "logistic_regression_best_hp = LogisticRegression()"
   ]
  },
  {
   "cell_type": "code",
   "execution_count": null,
   "id": "88c46dda-8788-4872-9626-9fee44d06ee8",
   "metadata": {},
   "outputs": [],
   "source": [
    "ada_booster_best_hp = AdaBoostClassifier()"
   ]
  },
  {
   "cell_type": "code",
   "execution_count": null,
   "id": "a34f1132-55ea-4e0b-afa5-b034a43a8081",
   "metadata": {},
   "outputs": [],
   "source": [
    "gradient_booster_classifier_best_hp = GradientBoostingClassifier()"
   ]
  },
  {
   "cell_type": "code",
   "execution_count": null,
   "id": "1f16a5ba-027d-4ebd-b20c-9f72a6fa7d71",
   "metadata": {},
   "outputs": [],
   "source": [
    "xgbooster_best_hp = xgboost.XGBClassifier()"
   ]
  },
  {
   "cell_type": "code",
   "execution_count": null,
   "id": "310c3fb5-a90e-4761-8f00-eeee4c377494",
   "metadata": {},
   "outputs": [],
   "source": [
    "#CREATE PARAM GRID FOR NAIVE BAYES\n",
    "#GRID SEARCH NAIVE BAYES\n",
    "# SAVE BEST MODEL\n",
    "#START BAGGING"
   ]
  },
  {
   "cell_type": "code",
   "execution_count": null,
   "id": "e29c1f44-c0d8-4831-9c1f-58843fa7c419",
   "metadata": {},
   "outputs": [],
   "source": []
  },
  {
   "cell_type": "code",
   "execution_count": null,
   "id": "054316fe-b456-4d7b-b569-3c6b8ab7e40a",
   "metadata": {},
   "outputs": [],
   "source": []
  },
  {
   "cell_type": "code",
   "execution_count": null,
   "id": "4776d1c2-5dd7-486c-bafc-fae630ad87ba",
   "metadata": {},
   "outputs": [],
   "source": []
  },
  {
   "cell_type": "code",
   "execution_count": null,
   "id": "4e570d4a-4ed8-4e74-a0f8-8883ac80e053",
   "metadata": {},
   "outputs": [],
   "source": []
  },
  {
   "cell_type": "code",
   "execution_count": null,
   "id": "bf150bde-114c-4305-b583-ba27daf77a38",
   "metadata": {},
   "outputs": [],
   "source": []
  },
  {
   "cell_type": "code",
   "execution_count": null,
   "id": "578bc87f-9c3f-4a62-91b9-9f13dc3c4e79",
   "metadata": {},
   "outputs": [],
   "source": []
  }
 ],
 "metadata": {
  "kernelspec": {
   "display_name": "new_env",
   "language": "python",
   "name": "new_env"
  },
  "language_info": {
   "codemirror_mode": {
    "name": "ipython",
    "version": 3
   },
   "file_extension": ".py",
   "mimetype": "text/x-python",
   "name": "python",
   "nbconvert_exporter": "python",
   "pygments_lexer": "ipython3",
   "version": "3.9.18"
  }
 },
 "nbformat": 4,
 "nbformat_minor": 5
}
